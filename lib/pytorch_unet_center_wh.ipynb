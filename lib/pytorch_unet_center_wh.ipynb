{
 "cells": [
  {
   "cell_type": "code",
   "execution_count": 3,
   "metadata": {},
   "outputs": [
    {
     "name": "stdout",
     "output_type": "stream",
     "text": [
      "(3, 192, 192, 3)\n",
      "0 255\n",
      "(3, 6, 192, 192)\n",
      "0.0 1.0\n",
      "(3, 6, 192, 192)\n",
      "0.0 1.0\n"
     ]
    },
    {
     "ename": "TypeError",
     "evalue": "masks_to_colorimg() missing 1 required positional argument: 'n_class'",
     "traceback": [
      "\u001b[0;31m---------------------------------------------------------------------------\u001b[0m",
      "\u001b[0;31mTypeError\u001b[0m                                 Traceback (most recent call last)",
      "\u001b[0;32m<ipython-input-3-96e8e1ff0459>\u001b[0m in \u001b[0;36m<module>\u001b[0;34m\u001b[0m\n\u001b[1;32m     21\u001b[0m \u001b[0;34m\u001b[0m\u001b[0m\n\u001b[1;32m     22\u001b[0m \u001b[0;31m# Map each channel (i.e. class) to each color\u001b[0m\u001b[0;34m\u001b[0m\u001b[0;34m\u001b[0m\u001b[0;34m\u001b[0m\u001b[0m\n\u001b[0;32m---> 23\u001b[0;31m \u001b[0mtarget_masks_rgb\u001b[0m \u001b[0;34m=\u001b[0m \u001b[0;34m[\u001b[0m\u001b[0mhelper\u001b[0m\u001b[0;34m.\u001b[0m\u001b[0mmasks_to_colorimg\u001b[0m\u001b[0;34m(\u001b[0m\u001b[0mx\u001b[0m\u001b[0;34m)\u001b[0m \u001b[0;32mfor\u001b[0m \u001b[0mx\u001b[0m \u001b[0;32min\u001b[0m \u001b[0mtarget_masks\u001b[0m\u001b[0;34m]\u001b[0m\u001b[0;34m\u001b[0m\u001b[0;34m\u001b[0m\u001b[0m\n\u001b[0m\u001b[1;32m     24\u001b[0m \u001b[0;34m\u001b[0m\u001b[0m\n\u001b[1;32m     25\u001b[0m \u001b[0;31m# Map each channel (i.e. class) to each color\u001b[0m\u001b[0;34m\u001b[0m\u001b[0;34m\u001b[0m\u001b[0;34m\u001b[0m\u001b[0m\n",
      "\u001b[0;32m<ipython-input-3-96e8e1ff0459>\u001b[0m in \u001b[0;36m<listcomp>\u001b[0;34m(.0)\u001b[0m\n\u001b[1;32m     21\u001b[0m \u001b[0;34m\u001b[0m\u001b[0m\n\u001b[1;32m     22\u001b[0m \u001b[0;31m# Map each channel (i.e. class) to each color\u001b[0m\u001b[0;34m\u001b[0m\u001b[0;34m\u001b[0m\u001b[0;34m\u001b[0m\u001b[0m\n\u001b[0;32m---> 23\u001b[0;31m \u001b[0mtarget_masks_rgb\u001b[0m \u001b[0;34m=\u001b[0m \u001b[0;34m[\u001b[0m\u001b[0mhelper\u001b[0m\u001b[0;34m.\u001b[0m\u001b[0mmasks_to_colorimg\u001b[0m\u001b[0;34m(\u001b[0m\u001b[0mx\u001b[0m\u001b[0;34m)\u001b[0m \u001b[0;32mfor\u001b[0m \u001b[0mx\u001b[0m \u001b[0;32min\u001b[0m \u001b[0mtarget_masks\u001b[0m\u001b[0;34m]\u001b[0m\u001b[0;34m\u001b[0m\u001b[0;34m\u001b[0m\u001b[0m\n\u001b[0m\u001b[1;32m     24\u001b[0m \u001b[0;34m\u001b[0m\u001b[0m\n\u001b[1;32m     25\u001b[0m \u001b[0;31m# Map each channel (i.e. class) to each color\u001b[0m\u001b[0;34m\u001b[0m\u001b[0;34m\u001b[0m\u001b[0;34m\u001b[0m\u001b[0m\n",
      "\u001b[0;31mTypeError\u001b[0m: masks_to_colorimg() missing 1 required positional argument: 'n_class'"
     ],
     "output_type": "error"
    }
   ],
   "source": [
    "%matplotlib inline\n",
    "%load_ext autoreload\n",
    "%autoreload 2\n",
    "\n",
    "import os,sys\n",
    "import pandas as pd\n",
    "import matplotlib.pyplot as plt\n",
    "import numpy as np\n",
    "import helper\n",
    "import simulation\n",
    "\n",
    "# Generate some random images\n",
    "input_images, target_masks, centers = simulation.generate_random_data_center(192, 192, count=3)\n",
    "\n",
    "for x in [input_images, target_masks, centers]:\n",
    "    print(x.shape)\n",
    "    print(x.min(), x.max())\n",
    "\n",
    "# Change channel-order and make 3 channels for matplot\n",
    "input_images_rgb = [x.astype(np.uint8) for x in input_images]\n",
    "\n",
    "# Map each channel (i.e. class) to each color\n",
    "target_masks_rgb = [helper.masks_to_colorimg(x) for x in target_masks]\n",
    "\n",
    "# Map each channel (i.e. class) to each color\n",
    "target_centers_rgb = [helper.masks_to_colorimg(x) for x in centers]\n",
    "\n",
    "\n",
    "# Left: Input image, Right: Target mask (Ground-truth)\n",
    "helper.plot_side_by_side([input_images_rgb, target_masks_rgb, target_centers_rgb])"
   ]
  },
  {
   "cell_type": "code",
   "execution_count": null,
   "metadata": {},
   "outputs": [],
   "source": [
    ""
   ]
  },
  {
   "cell_type": "code",
   "execution_count": 179,
   "metadata": {},
   "outputs": [
    {
     "name": "stdout",
     "output_type": "stream",
     "text": [
      "The autoreload extension is already loaded. To reload it, use:\n",
      "  %reload_ext autoreload\n"
     ]
    }
   ],
   "source": [
    "%matplotlib inline\n",
    "%load_ext autoreload\n",
    "%autoreload 2\n",
    "\n",
    "import os,sys\n",
    "import pandas as pd\n",
    "import matplotlib.pyplot as plt\n",
    "import numpy as np\n",
    "import helper\n",
    "import simulation"
   ]
  },
  {
   "cell_type": "code",
   "execution_count": 79,
   "metadata": {},
   "outputs": [
    {
     "name": "stdout",
     "output_type": "stream",
     "text": [
      "The autoreload extension is already loaded. To reload it, use:\n",
      "  %reload_ext autoreload\n",
      "(1, 192, 192, 3) 0 255\n",
      "(1, 6, 192, 192) 0 1\n",
      "(1, 13, 192, 192) 0 1\n",
      "(1, 6, 192, 192) 0 1\n",
      "(1, 6, 192, 192) 0 36\n",
      "(1, 6, 192, 192) 0 36\n"
     ]
    },
    {
     "data": {
      "image/png": "[encoded data removed]",
      "text/plain": [
       "<Figure size 1728x288 with 6 Axes>"
      ]
     },
     "metadata": {
      "needs_background": "light"
     },
     "output_type": "display_data"
    }
   ],
   "source": [
    "# new data generation method\n",
    "\n",
    "%matplotlib inline\n",
    "%load_ext autoreload\n",
    "%autoreload 2\n",
    "\n",
    "import os,sys\n",
    "import pandas as pd\n",
    "import matplotlib.pyplot as plt\n",
    "import numpy as np\n",
    "import helper\n",
    "import simulation\n",
    "\n",
    "input_images, class_masks, instance_masks, center_masks, width_masks, height_masks = simulation.generate_random_data_pack_mask_instance_center_width_height(192, 192, count=1, one_class_only = False)\n",
    "\n",
    "print(input_images.shape, input_images.min(), input_images.max())\n",
    "print(class_masks.shape, class_masks.min(), class_masks.max())\n",
    "print(instance_masks.shape, instance_masks.min(), instance_masks.max())\n",
    "print(center_masks.shape, center_masks.min(), center_masks.max())\n",
    "print(width_masks.shape, width_masks.min(), width_masks.max())\n",
    "print(height_masks.shape, height_masks.min(), height_masks.max())\n",
    "\n",
    "\n",
    "# for i in range(len(instance_masks)):\n",
    "#     print(i, instance_masks[i].shape, instance_masks[i].min(), instance_masks[i].max())\n",
    "\n",
    "# Change channel-order and make 3 channels for matplot\n",
    "input_images_rgb = [x.astype(np.uint8) for x in input_images]\n",
    "\n",
    "# Map each channel (i.e. class) to each color\n",
    "target_masks_rgb = [helper.masks_to_colorimg2(x) for x in class_masks]\n",
    "\n",
    "\n",
    "# Map each channel (i.e. class) to each color\n",
    "instance_masks_rgb = [helper.masks_to_colorimg2(x) for x in instance_masks]\n",
    "\n",
    "# Map each channel (i.e. class) to each color\n",
    "center_masks_rgb = [helper.masks_to_colorimg2(x) for x in center_masks]\n",
    "\n",
    "\n",
    "# Map each channel (i.e. class) to each color\n",
    "width_masks_rgb = [helper.masks_to_colorimg2(x) for x in width_masks]\n",
    "\n",
    "# Map each channel (i.e. class) to each color\n",
    "height_masks_rgb = [helper.masks_to_colorimg2(x) for x in height_masks]\n",
    "\n",
    "\n",
    "# Left: Input image, Right: Target mask (Ground-truth)\n",
    "helper.plot_side_by_side([input_images_rgb, target_masks_rgb, instance_masks_rgb, center_masks_rgb, width_masks_rgb, height_masks_rgb ])"
   ]
  },
  {
   "cell_type": "code",
   "execution_count": 106,
   "metadata": {},
   "outputs": [
    {
     "name": "stdout",
     "output_type": "stream",
     "text": [
      "uint8\n",
      "uint8\n",
      "uint8\n",
      "uint8\n",
      "uint8\n",
      "uint8\n",
      "<class 'numpy.ndarray'>\n",
      "<class 'numpy.ndarray'>\n",
      "<class 'numpy.ndarray'>\n",
      "<class 'numpy.ndarray'>\n",
      "<class 'numpy.ndarray'>\n"
     ]
    }
   ],
   "source": [
    "print(input_images[0].dtype)\n",
    "print(center_masks[0].dtype)\n",
    "print(class_masks[0].dtype)\n",
    "print(instance_masks[0].dtype)\n",
    "print(width_masks[0].dtype)\n",
    "print(height_masks[0].dtype)\n",
    "\n",
    "print(type(input_images))\n",
    "print(type(center_masks))\n",
    "print(type(class_masks))\n",
    "print(type(width_masks))\n",
    "print(type(height_masks))\n",
    "\n",
    "# sum(width_masks[0][5])"
   ]
  },
  {
   "cell_type": "code",
   "execution_count": 47,
   "metadata": {},
   "outputs": [
    {
     "data": {
      "text/plain": [
       "array([[False, False, False, ..., False, False, False],\n",
       "       [False, False, False, ..., False, False, False],\n",
       "       [False, False, False, ..., False, False, False],\n",
       "       ...,\n",
       "       [False, False, False, ..., False, False, False],\n",
       "       [False, False, False, ..., False, False, False],\n",
       "       [False, False, False, ..., False, False, False]])"
      ]
     },
     "execution_count": 47,
     "metadata": {},
     "output_type": "execute_result"
    }
   ],
   "source": [
    "sum(height_masks[0][5])\n",
    "sum(width_masks[0][5])\n",
    "sum(center_masks[0][5])\n",
    "class_masks[0][5]"
   ]
  },
  {
   "cell_type": "code",
   "execution_count": 180,
   "metadata": {},
   "outputs": [
    {
     "name": "stdout",
     "output_type": "stream",
     "text": [
      "The autoreload extension is already loaded. To reload it, use:\n",
      "  %reload_ext autoreload\n"
     ]
    },
    {
     "data": {
      "text/plain": [
       "{'train': 6000, 'val': 500}"
      ]
     },
     "execution_count": 180,
     "metadata": {},
     "output_type": "execute_result"
    }
   ],
   "source": [
    "# new data generation method\n",
    "\n",
    "%matplotlib inline\n",
    "%load_ext autoreload\n",
    "%autoreload 2\n",
    "\n",
    "import os,sys\n",
    "import pandas as pd\n",
    "import matplotlib.pyplot as plt\n",
    "import numpy as np\n",
    "import helper\n",
    "import simulation\n",
    "\n",
    "\n",
    "from torch.utils.data import Dataset, DataLoader\n",
    "from torchvision import transforms, datasets, models\n",
    "\n",
    "class SimDataset(Dataset):\n",
    "    def __init__(self, count, n_class, transform=None):\n",
    "#         self.input_images, self.target_masks, self.target_centers = simulation.generate_random_data_center(192, 192, count=count)        \n",
    "        self.input_images, self.target_masks, _, self.target_centers, self.target_widths, self.target_heights = simulation.generate_random_data_pack_mask_instance_center_width_height(192, 192, count=count, n_class=n_class)        \n",
    "        self.transform = transform\n",
    "    \n",
    "    def __len__(self):\n",
    "        return len(self.input_images)\n",
    "    \n",
    "    def __getitem__(self, idx):        \n",
    "        image = self.input_images[idx]\n",
    "        mask = self.target_masks[idx]\n",
    "        center = self.target_centers[idx]\n",
    "        width = self.target_widths[idx]\n",
    "        height = self.target_heights[idx]\n",
    "        if self.transform:\n",
    "            image = self.transform(image)\n",
    "        \n",
    "        return [image, mask, center, width, height]\n",
    "\n",
    "# use same transform for train/val for this example\n",
    "trans = transforms.Compose([\n",
    "    transforms.ToTensor(),\n",
    "])\n",
    "\n",
    "n_class = 6\n",
    "train_set = SimDataset(6000, n_class, transform = trans)\n",
    "val_set = SimDataset(500, n_class, transform = trans)\n",
    "\n",
    "image_datasets = {\n",
    "    'train': train_set, 'val': val_set\n",
    "}\n",
    "\n",
    "batch_size = 25\n",
    "\n",
    "dataloaders = {\n",
    "    'train': DataLoader(train_set, batch_size=batch_size, shuffle=True, num_workers=0),\n",
    "    'val': DataLoader(val_set, batch_size=batch_size, shuffle=True, num_workers=0)\n",
    "}\n",
    "\n",
    "dataset_sizes = {\n",
    "    x: len(image_datasets[x]) for x in image_datasets.keys()\n",
    "}\n",
    "\n",
    "dataset_sizes"
   ]
  },
  {
   "cell_type": "code",
   "execution_count": 183,
   "metadata": {},
   "outputs": [
    {
     "name": "stdout",
     "output_type": "stream",
     "text": [
      "torch.Size([25, 3, 192, 192]) torch.Size([25, 6, 192, 192]) torch.Size([25, 6, 192, 192]) torch.Size([25, 6, 192, 192]) torch.Size([25, 6, 192, 192])\n",
      "0.0 1.0 0.09817275 0.2975481\n",
      "0 1 0.016423430266203704 0.12709721163147036\n",
      "0 1 0.0007899305555555555 0.028094600286762573\n"
     ]
    },
    {
     "data": {
      "text/plain": [
       "<matplotlib.image.AxesImage at 0x7fa466c30a20>"
      ]
     },
     "execution_count": 183,
     "metadata": {},
     "output_type": "execute_result"
    },
    {
     "data": {
      "image/png": "[encoded data removed]",
      "text/plain": [
       "<Figure size 432x288 with 1 Axes>"
      ]
     },
     "metadata": {
      "needs_background": "light"
     },
     "output_type": "display_data"
    }
   ],
   "source": [
    "import torchvision.utils\n",
    "\n",
    "def reverse_transform(inp):\n",
    "    inp = inp.numpy().transpose((1, 2, 0))\n",
    "    inp = np.clip(inp, 0, 1)\n",
    "    inp = (inp * 255).astype(np.uint8)\n",
    "    \n",
    "    return inp\n",
    "\n",
    "# Get a batch of training data\n",
    "inputs, masks, centers, widths, heights = next(iter(dataloaders['train']))\n",
    "\n",
    "print(inputs.shape, masks.shape, centers.shape, widths.shape, heights.shape)\n",
    "for x in [inputs.numpy(), masks.numpy(), centers.numpy()]:\n",
    "    print(x.min(), x.max(), x.mean(), x.std())\n",
    "\n",
    "plt.imshow(reverse_transform(inputs[3]))"
   ]
  },
  {
   "cell_type": "code",
   "execution_count": 78,
   "metadata": {},
   "outputs": [],
   "source": [
    "# inputs, masks, centers = next(iter(dataloaders['train']))"
   ]
  },
  {
   "cell_type": "code",
   "execution_count": null,
   "metadata": {},
   "outputs": [],
   "source": [
    ""
   ]
  },
  {
   "cell_type": "code",
   "execution_count": 7,
   "metadata": {},
   "outputs": [
    {
     "data": {
      "text/plain": [
       "tensor(9.)"
      ]
     },
     "execution_count": 7,
     "metadata": {},
     "output_type": "execute_result"
    }
   ],
   "source": [
    "import torch\n",
    "centers[0][0].shape\n",
    "torch.sum(centers[0][0])"
   ]
  },
  {
   "cell_type": "code",
   "execution_count": 5,
   "metadata": {},
   "outputs": [],
   "source": [
    "# from torchsummary import summary\n",
    "# import torch\n",
    "# import torch.nn as nn\n",
    "# from pytorchunet import pytorch_unet\n",
    "# import models\n",
    "\n",
    "# device = torch.device('cuda' if torch.cuda.is_available() else 'cpu')\n",
    "\n",
    "# # model = pytorch_unet.UNet(6)\n",
    "# # model = models.ObjectDetectUNet(6)\n",
    "# # model = models.InstanceUNet(6,3)\n",
    "# model = models.ObjectDetectUNet(6)\n",
    "# model = model.to(device)\n",
    "\n",
    "# summary(model, input_size=(3, 224, 224))"
   ]
  },
  {
   "cell_type": "code",
   "execution_count": null,
   "metadata": {},
   "outputs": [],
   "source": [
    ""
   ]
  },
  {
   "cell_type": "code",
   "execution_count": null,
   "metadata": {},
   "outputs": [],
   "source": [
    ""
   ]
  },
  {
   "cell_type": "code",
   "execution_count": 184,
   "metadata": {},
   "outputs": [
    {
     "name": "stderr",
     "output_type": "stream",
     "text": [
      "Epoch 0 train:   0% 0/240 [00:00<?, ?it/s]"
     ]
    },
    {
     "name": "stdout",
     "output_type": "stream",
     "text": [
      "Epoch 0/49\n",
      "----------\n"
     ]
    },
    {
     "name": "stderr",
     "output_type": "stream",
     "text": [
      "/home/ali/miniconda3/envs/deploy3/lib/python3.6/site-packages/torch/nn/functional.py:1332: UserWarning: nn.functional.sigmoid is deprecated. Use torch.sigmoid instead.\n",
      "  warnings.warn(\"nn.functional.sigmoid is deprecated. Use torch.sigmoid instead.\")\n",
      "Epoch 0 train: 100% 240/240 [02:06<00:00,  1.88it/s, bce_center=0.04090, bce_mask=0.10062, dice=0.71962, dice_center=0.83332, l2_height=0.04350, l2_width=0.04329, loss=1.78126]\n",
      "Epoch 0 val:   5% 1/20 [00:00<00:03,  6.11it/s, bce_center=0.01608, bce_mask=0.02117, dice=0.26751, dice_center=0.80852, l2_height=0.00852, l2_width=0.00995, loss=1.13175]"
     ]
    },
    {
     "name": "stdout",
     "output_type": "stream",
     "text": [
      "train_bce_mask 0.10061692299786955\n",
      "train_dice 0.7196218454589446\n",
      "train_bce_center 0.040895108583693704\n",
      "train_dice_center 0.8333236629764239\n",
      "train_l2_width 0.043294919181304674\n",
      "train_l2_height 0.04350291839994801\n",
      "train_loss 1.7812553788224856\n"
     ]
    },
    {
     "name": "stderr",
     "output_type": "stream",
     "text": [
      "Epoch 0 val: 100% 20/20 [00:03<00:00,  6.14it/s, bce_center=0.01620, bce_mask=0.01943, dice=0.29186, dice_center=0.81214, l2_height=0.00911, l2_width=0.01050, loss=1.15923]\n",
      "Epoch 1 train:   0% 0/240 [00:00<?, ?it/s]"
     ]
    },
    {
     "name": "stdout",
     "output_type": "stream",
     "text": [
      "val_bce_mask 0.01942677889019251\n",
      "val_dice 0.2918553002178669\n",
      "val_bce_center 0.01619859109632671\n",
      "val_dice_center 0.8121444672346115\n",
      "val_l2_width 0.010500316135585308\n",
      "val_l2_height 0.009107675543054939\n",
      "val_loss 1.159233146905899\n",
      "Saving the best model state dict\n",
      "\n",
      "Epoch 1/49\n",
      "----------\n"
     ]
    },
    {
     "name": "stderr",
     "output_type": "stream",
     "text": [
      "Epoch 1 train: 100% 240/240 [02:09<00:00,  1.86it/s, bce_center=0.01005, bce_mask=0.01312, dice=0.18832, dice_center=0.75219, l2_height=0.00556, l2_width=0.00535, loss=0.97459]\n",
      "Epoch 1 val:   5% 1/20 [00:00<00:03,  5.96it/s, bce_center=0.00756, bce_mask=0.00727, dice=0.17184, dice_center=0.60275, l2_height=0.00482, l2_width=0.00457, loss=0.79881]"
     ]
    },
    {
     "name": "stdout",
     "output_type": "stream",
     "text": [
      "train_bce_mask 0.013120556244393811\n",
      "train_dice 0.18831504248082637\n",
      "train_bce_center 0.010054711491102352\n",
      "train_dice_center 0.7521915954848131\n",
      "train_l2_width 0.0053535435882319385\n",
      "train_l2_height 0.005555951199494302\n",
      "train_loss 0.9745914041996002\n"
     ]
    },
    {
     "name": "stderr",
     "output_type": "stream",
     "text": [
      "Epoch 1 val: 100% 20/20 [00:03<00:00,  6.22it/s, bce_center=0.00769, bce_mask=0.00809, dice=0.16795, dice_center=0.62088, l2_height=0.00506, l2_width=0.00463, loss=0.81430]\n",
      "Epoch 2 train:   0% 0/240 [00:00<?, ?it/s]"
     ]
    },
    {
     "name": "stdout",
     "output_type": "stream",
     "text": [
      "val_bce_mask 0.008087795018218458\n",
      "val_dice 0.16795058995485307\n",
      "val_bce_center 0.007692498830147087\n",
      "val_dice_center 0.6208820849657058\n",
      "val_l2_width 0.004627204348798842\n",
      "val_l2_height 0.0050647757132537665\n",
      "val_loss 0.8143049448728561\n",
      "Saving the best model state dict\n",
      "\n",
      "Epoch 2/49\n",
      "----------\n"
     ]
    },
    {
     "name": "stderr",
     "output_type": "stream",
     "text": [
      "Epoch 2 train: 100% 240/240 [02:10<00:00,  1.84it/s, bce_center=0.00431, bce_mask=0.00439, dice=0.07585, dice_center=0.47724, l2_height=0.00439, l2_width=0.00435, loss=0.57054]\n",
      "Epoch 2 val:   5% 1/20 [00:00<00:03,  6.17it/s, bce_center=0.00244, bce_mask=0.00135, dice=0.02287, dice_center=0.35706, l2_height=0.00319, l2_width=0.00336, loss=0.39026]"
     ]
    },
    {
     "name": "stdout",
     "output_type": "stream",
     "text": [
      "train_bce_mask 0.0043915428813003626\n",
      "train_dice 0.07585301472960661\n",
      "train_bce_center 0.0043117918374870595\n",
      "train_dice_center 0.47724253361423813\n",
      "train_l2_width 0.004349439211849434\n",
      "train_l2_height 0.004391000143368728\n",
      "train_loss 0.5705393212536971\n"
     ]
    },
    {
     "name": "stderr",
     "output_type": "stream",
     "text": [
      "Epoch 2 val: 100% 20/20 [00:03<00:00,  6.16it/s, bce_center=0.00276, bce_mask=0.00200, dice=0.02718, dice_center=0.38475, l2_height=0.00333, l2_width=0.00360, loss=0.42361]\n",
      "Epoch 3 train:   0% 0/240 [00:00<?, ?it/s]"
     ]
    },
    {
     "name": "stdout",
     "output_type": "stream",
     "text": [
      "val_bce_mask 0.0019958131713792683\n",
      "val_dice 0.027183519396930932\n",
      "val_bce_center 0.002758236334193498\n",
      "val_dice_center 0.3847505196928978\n",
      "val_l2_width 0.0035970666212961078\n",
      "val_l2_height 0.003328665031585842\n",
      "val_loss 0.4236138239502907\n",
      "Saving the best model state dict\n",
      "\n",
      "Epoch 3/49\n",
      "----------\n"
     ]
    },
    {
     "name": "stderr",
     "output_type": "stream",
     "text": [
      "Epoch 3 train: 100% 240/240 [02:10<00:00,  1.85it/s, bce_center=0.00195, bce_mask=0.00266, dice=0.02166, dice_center=0.28704, l2_height=0.00404, l2_width=0.00412, loss=0.32148]\n",
      "Epoch 3 val:   5% 1/20 [00:00<00:03,  6.05it/s, bce_center=0.00115, bce_mask=0.00212, dice=0.01222, dice_center=0.19188, l2_height=0.00306, l2_width=0.00313, loss=0.21355]"
     ]
    },
    {
     "name": "stdout",
     "output_type": "stream",
     "text": [
      "train_bce_mask 0.002664304840436671\n",
      "train_dice 0.021656994036554047\n",
      "train_bce_center 0.0019527165679998385\n",
      "train_dice_center 0.2870428570235769\n",
      "train_l2_width 0.0041162108886055645\n",
      "train_l2_height 0.004042068307171576\n",
      "train_loss 0.32147515285760164\n"
     ]
    },
    {
     "name": "stderr",
     "output_type": "stream",
     "text": [
      "Epoch 3 val: 100% 20/20 [00:03<00:00,  6.07it/s, bce_center=0.00124, bce_mask=0.00237, dice=0.01663, dice_center=0.20017, l2_height=0.00301, l2_width=0.00306, loss=0.22647]\n",
      "Epoch 4 train:   0% 0/240 [00:00<?, ?it/s]"
     ]
    },
    {
     "name": "stdout",
     "output_type": "stream",
     "text": [
      "val_bce_mask 0.002367900835815817\n",
      "val_dice 0.0166271414142102\n",
      "val_bce_center 0.0012425220629666\n",
      "val_dice_center 0.20016970559954644\n",
      "val_l2_width 0.0030588931986130774\n",
      "val_l2_height 0.0030058052041567864\n",
      "val_loss 0.2264719672501087\n",
      "Saving the best model state dict\n",
      "\n",
      "Epoch 4/49\n",
      "----------\n"
     ]
    },
    {
     "name": "stderr",
     "output_type": "stream",
     "text": [
      "Epoch 4 train: 100% 240/240 [02:10<00:00,  1.84it/s, bce_center=0.00109, bce_mask=0.00239, dice=0.01530, dice_center=0.17510, l2_height=0.00274, l2_width=0.00284, loss=0.19946]\n",
      "Epoch 4 val:   5% 1/20 [00:00<00:03,  5.92it/s, bce_center=0.00069, bce_mask=0.00223, dice=0.01081, dice_center=0.13223, l2_height=0.00220, l2_width=0.00240, loss=0.15056]"
     ]
    },
    {
     "name": "stdout",
     "output_type": "stream",
     "text": [
      "train_bce_mask 0.0023920203961703616\n",
      "train_dice 0.015295983986773839\n",
      "train_bce_center 0.001090846024211108\n",
      "train_dice_center 0.17509788864602646\n",
      "train_l2_width 0.0028379999799653887\n",
      "train_l2_height 0.0027404948996263556\n",
      "train_loss 0.19945523347705602\n"
     ]
    },
    {
     "name": "stderr",
     "output_type": "stream",
     "text": [
      "Epoch 4 val: 100% 20/20 [00:03<00:00,  6.06it/s, bce_center=0.00078, bce_mask=0.00222, dice=0.01317, dice_center=0.13892, l2_height=0.00213, l2_width=0.00231, loss=0.15953]\n",
      "Epoch 5 train:   0% 0/240 [00:00<?, ?it/s]"
     ]
    },
    {
     "name": "stdout",
     "output_type": "stream",
     "text": [
      "val_bce_mask 0.002218817645916715\n",
      "val_dice 0.013171347742900252\n",
      "val_bce_center 0.0007769398158416152\n",
      "val_dice_center 0.1389227069914341\n",
      "val_l2_width 0.0023076406796462834\n",
      "val_l2_height 0.002131516847293824\n",
      "val_loss 0.15952896773815156\n",
      "Saving the best model state dict\n",
      "\n",
      "Epoch 5/49\n",
      "----------\n"
     ]
    },
    {
     "name": "stderr",
     "output_type": "stream",
     "text": [
      "Epoch 5 train: 100% 240/240 [02:10<00:00,  1.85it/s, bce_center=0.00080, bce_mask=0.00215, dice=0.01249, dice_center=0.12589, l2_height=0.00229, l2_width=0.00236, loss=0.14598]\n",
      "Epoch 5 val:   5% 1/20 [00:00<00:03,  6.17it/s, bce_center=0.00089, bce_mask=0.00277, dice=0.01328, dice_center=0.12243, l2_height=0.00222, l2_width=0.00244, loss=0.14402]"
     ]
    },
    {
     "name": "stdout",
     "output_type": "stream",
     "text": [
      "train_bce_mask 0.002152346812363248\n",
      "train_dice 0.01249125439596052\n",
      "train_bce_center 0.0007955907240102533\n",
      "train_dice_center 0.1258898767332236\n",
      "train_l2_width 0.0023603456182172524\n",
      "train_l2_height 0.00228699160021885\n",
      "train_loss 0.14597640611852208\n"
     ]
    },
    {
     "name": "stderr",
     "output_type": "stream",
     "text": [
      "Epoch 5 val: 100% 20/20 [00:03<00:00,  6.19it/s, bce_center=0.00075, bce_mask=0.00209, dice=0.01305, dice_center=0.12063, l2_height=0.00184, l2_width=0.00203, loss=0.14040]\n",
      "Epoch 6 train:   0% 0/240 [00:00<?, ?it/s]"
     ]
    },
    {
     "name": "stdout",
     "output_type": "stream",
     "text": [
      "val_bce_mask 0.002094618207775056\n",
      "val_dice 0.013045470975339413\n",
      "val_bce_center 0.0007487067137844861\n",
      "val_dice_center 0.12063450179994106\n",
      "val_l2_width 0.0020332742773462088\n",
      "val_l2_height 0.0018386362702585758\n",
      "val_loss 0.14039520919322968\n",
      "Saving the best model state dict\n",
      "\n",
      "Epoch 6/49\n",
      "----------\n"
     ]
    },
    {
     "name": "stderr",
     "output_type": "stream",
     "text": [
      "Epoch 6 train: 100% 240/240 [02:10<00:00,  1.85it/s, bce_center=0.00066, bce_mask=0.00197, dice=0.01081, dice_center=0.10001, l2_height=0.00202, l2_width=0.00207, loss=0.11753]\n",
      "Epoch 6 val:   0% 0/20 [00:00<?, ?it/s]"
     ]
    },
    {
     "name": "stdout",
     "output_type": "stream",
     "text": [
      "train_bce_mask 0.001965065742357789\n",
      "train_dice 0.01081057876193275\n",
      "train_bce_center 0.0006556556247232948\n",
      "train_dice_center 0.10000828048214316\n",
      "train_l2_width 0.0020655342455332478\n",
      "train_l2_height 0.0020231737284727084\n",
      "train_loss 0.1175282888735334\n"
     ]
    },
    {
     "name": "stderr",
     "output_type": "stream",
     "text": [
      "Epoch 6 val: 100% 20/20 [00:03<00:00,  6.08it/s, bce_center=0.00067, bce_mask=0.00176, dice=0.01061, dice_center=0.10611, l2_height=0.00194, l2_width=0.00184, loss=0.12293]\n",
      "Epoch 7 train:   0% 0/240 [00:00<?, ?it/s]"
     ]
    },
    {
     "name": "stdout",
     "output_type": "stream",
     "text": [
      "val_bce_mask 0.0017572112323250622\n",
      "val_dice 0.010610377439297736\n",
      "val_bce_center 0.0006734876806149259\n",
      "val_dice_center 0.106114561855793\n",
      "val_l2_width 0.0018433459219522775\n",
      "val_l2_height 0.001935163710732013\n",
      "val_loss 0.12293414734303951\n",
      "Saving the best model state dict\n",
      "\n",
      "Epoch 7/49\n",
      "----------\n"
     ]
    },
    {
     "name": "stderr",
     "output_type": "stream",
     "text": [
      "Epoch 7 train: 100% 240/240 [02:10<00:00,  1.84it/s, bce_center=0.00056, bce_mask=0.00177, dice=0.00941, dice_center=0.08239, l2_height=0.00186, l2_width=0.00189, loss=0.09787]\n",
      "Epoch 7 val:   5% 1/20 [00:00<00:03,  5.65it/s, bce_center=0.00040, bce_mask=0.00207, dice=0.01110, dice_center=0.07357, l2_height=0.00149, l2_width=0.00153, loss=0.09017]"
     ]
    },
    {
     "name": "stdout",
     "output_type": "stream",
     "text": [
      "train_bce_mask 0.0017661419937212487\n",
      "train_dice 0.009411341613546636\n",
      "train_bce_center 0.0005554995934896093\n",
      "train_dice_center 0.08239462918912371\n",
      "train_l2_width 0.0018878020152139168\n",
      "train_l2_height 0.001857405084107692\n",
      "train_loss 0.097872819720457\n"
     ]
    },
    {
     "name": "stderr",
     "output_type": "stream",
     "text": [
      "Epoch 7 val: 100% 20/20 [00:03<00:00,  6.09it/s, bce_center=0.00046, bce_mask=0.00158, dice=0.00918, dice_center=0.07003, l2_height=0.00152, l2_width=0.00154, loss=0.08431]\n",
      "Epoch 8 train:   0% 0/240 [00:00<?, ?it/s]"
     ]
    },
    {
     "name": "stdout",
     "output_type": "stream",
     "text": [
      "val_bce_mask 0.0015820453874766827\n",
      "val_dice 0.009180674189701676\n",
      "val_bce_center 0.00045517387188738213\n",
      "val_dice_center 0.07002822626382113\n",
      "val_l2_width 0.0015371135086752474\n",
      "val_l2_height 0.0015246968134306372\n",
      "val_loss 0.08430793061852455\n",
      "Saving the best model state dict\n",
      "\n",
      "Epoch 8/49\n",
      "----------\n"
     ]
    },
    {
     "name": "stderr",
     "output_type": "stream",
     "text": [
      "Epoch 8 train: 100% 240/240 [02:10<00:00,  1.83it/s, bce_center=0.00048, bce_mask=0.00163, dice=0.00863, dice_center=0.06740, l2_height=0.00171, l2_width=0.00173, loss=0.08158]\n",
      "Epoch 8 val:   5% 1/20 [00:00<00:03,  6.06it/s, bce_center=0.00038, bce_mask=0.00134, dice=0.00779, dice_center=0.06621, l2_height=0.00140, l2_width=0.00149, loss=0.07860]"
     ]
    },
    {
     "name": "stdout",
     "output_type": "stream",
     "text": [
      "train_bce_mask 0.0016337999380387676\n",
      "train_dice 0.008627413519813368\n",
      "train_bce_center 0.0004752190319171253\n",
      "train_dice_center 0.06740137501619756\n",
      "train_l2_width 0.0017318018959485925\n",
      "train_l2_height 0.0017080710817632887\n",
      "train_loss 0.08157768066351613\n"
     ]
    },
    {
     "name": "stderr",
     "output_type": "stream",
     "text": [
      "Epoch 8 val: 100% 20/20 [00:03<00:00,  6.07it/s, bce_center=0.00045, bce_mask=0.00151, dice=0.00868, dice_center=0.06448, l2_height=0.00148, l2_width=0.00151, loss=0.07812]\n",
      "Epoch 9 train:   0% 0/240 [00:00<?, ?it/s]"
     ]
    },
    {
     "name": "stdout",
     "output_type": "stream",
     "text": [
      "val_bce_mask 0.0015109167870832607\n",
      "val_dice 0.008684483706019819\n",
      "val_bce_center 0.00044633520592469723\n",
      "val_dice_center 0.06448376737535\n",
      "val_l2_width 0.0015112008841242641\n",
      "val_l2_height 0.0014786985819227993\n",
      "val_loss 0.0781154029071331\n",
      "Saving the best model state dict\n",
      "\n",
      "Epoch 9/49\n",
      "----------\n"
     ]
    },
    {
     "name": "stderr",
     "output_type": "stream",
     "text": [
      "Epoch 9 train: 100% 240/240 [02:10<00:00,  1.83it/s, bce_center=0.00042, bce_mask=0.00150, dice=0.00780, dice_center=0.05670, l2_height=0.00152, l2_width=0.00155, loss=0.06949]\n",
      "Epoch 9 val:   5% 1/20 [00:00<00:03,  5.13it/s, bce_center=0.00046, bce_mask=0.00232, dice=0.01151, dice_center=0.05785, l2_height=0.00169, l2_width=0.00171, loss=0.07553]"
     ]
    },
    {
     "name": "stdout",
     "output_type": "stream",
     "text": [
      "train_bce_mask 0.001502721902943449\n",
      "train_dice 0.007802758763621871\n",
      "train_bce_center 0.0004173049791158216\n",
      "train_dice_center 0.05670409332960844\n",
      "train_l2_width 0.0015456414650543593\n",
      "train_l2_height 0.0015196951867740911\n",
      "train_loss 0.0694922155700624\n"
     ]
    },
    {
     "name": "stderr",
     "output_type": "stream",
     "text": [
      "Epoch 9 val: 100% 20/20 [00:03<00:00,  6.04it/s, bce_center=0.00037, bce_mask=0.00139, dice=0.00784, dice_center=0.05310, l2_height=0.00126, l2_width=0.00130, loss=0.06526]\n",
      "Epoch 10 train:   0% 0/240 [00:00<?, ?it/s]"
     ]
    },
    {
     "name": "stdout",
     "output_type": "stream",
     "text": [
      "val_bce_mask 0.001390134505345486\n",
      "val_dice 0.007839154312387108\n",
      "val_bce_center 0.0003679334171465598\n",
      "val_dice_center 0.053098450787365435\n",
      "val_l2_width 0.0012973866192623972\n",
      "val_l2_height 0.0012620438123121859\n",
      "val_loss 0.06525510288774967\n",
      "Saving the best model state dict\n",
      "\n",
      "Epoch 10/49\n",
      "----------\n"
     ]
    },
    {
     "name": "stderr",
     "output_type": "stream",
     "text": [
      "Epoch 10 train: 100% 240/240 [02:10<00:00,  1.84it/s, bce_center=0.00037, bce_mask=0.00140, dice=0.00729, dice_center=0.04854, l2_height=0.00142, l2_width=0.00143, loss=0.06044]\n",
      "Epoch 10 val:   5% 1/20 [00:00<00:03,  6.15it/s, bce_center=0.00026, bce_mask=0.00211, dice=0.00953, dice_center=0.04391, l2_height=0.00143, l2_width=0.00147, loss=0.05871]"
     ]
    },
    {
     "name": "stdout",
     "output_type": "stream",
     "text": [
      "train_bce_mask 0.0013991190627469527\n",
      "train_dice 0.007290859411781033\n",
      "train_bce_center 0.0003718046657013474\n",
      "train_dice_center 0.048542356103037795\n",
      "train_l2_width 0.0014251930357810731\n",
      "train_l2_height 0.0014151731050030018\n",
      "train_loss 0.06044450563689073\n"
     ]
    },
    {
     "name": "stderr",
     "output_type": "stream",
     "text": [
      "Epoch 10 val: 100% 20/20 [00:03<00:00,  6.12it/s, bce_center=0.00032, bce_mask=0.00131, dice=0.00758, dice_center=0.04351, l2_height=0.00123, l2_width=0.00124, loss=0.05520]\n",
      "Epoch 11 train:   0% 0/240 [00:00<?, ?it/s]"
     ]
    },
    {
     "name": "stdout",
     "output_type": "stream",
     "text": [
      "val_bce_mask 0.0013103929843055085\n",
      "val_dice 0.007579565583728254\n",
      "val_bce_center 0.00032494430342921987\n",
      "val_dice_center 0.043510308116674425\n",
      "val_l2_width 0.0012411677569616586\n",
      "val_l2_height 0.001234460243722424\n",
      "val_loss 0.05520083829760551\n",
      "Saving the best model state dict\n",
      "\n",
      "Epoch 11/49\n",
      "----------\n"
     ]
    },
    {
     "name": "stderr",
     "output_type": "stream",
     "text": [
      "Epoch 11 train: 100% 240/240 [02:10<00:00,  1.81it/s, bce_center=0.00035, bce_mask=0.00132, dice=0.00684, dice_center=0.04339, l2_height=0.00139, l2_width=0.00141, loss=0.05471]\n",
      "Epoch 11 val:   5% 1/20 [00:00<00:03,  5.86it/s, bce_center=0.00042, bce_mask=0.00082, dice=0.00647, dice_center=0.04466, l2_height=0.00116, l2_width=0.00112, loss=0.05464]"
     ]
    },
    {
     "name": "stdout",
     "output_type": "stream",
     "text": [
      "train_bce_mask 0.0013242777885655718\n",
      "train_dice 0.006843231321545318\n",
      "train_bce_center 0.0003526698910718551\n",
      "train_dice_center 0.04338861966971308\n",
      "train_l2_width 0.0014074825123922589\n",
      "train_l2_height 0.0013900953332874149\n",
      "train_loss 0.054706376511603594\n"
     ]
    },
    {
     "name": "stderr",
     "output_type": "stream",
     "text": [
      "Epoch 11 val: 100% 20/20 [00:03<00:00,  6.08it/s, bce_center=0.00033, bce_mask=0.00124, dice=0.00738, dice_center=0.04389, l2_height=0.00126, l2_width=0.00122, loss=0.05531]\n",
      "Epoch 12 train:   0% 0/240 [00:00<?, ?it/s]"
     ]
    },
    {
     "name": "stdout",
     "output_type": "stream",
     "text": [
      "val_bce_mask 0.0012372028664685785\n",
      "val_dice 0.007378710131160915\n",
      "val_bce_center 0.00032631255671731194\n",
      "val_dice_center 0.0438889442011714\n",
      "val_l2_width 0.0012234214111231268\n",
      "val_l2_height 0.0012601779249962418\n",
      "val_loss 0.05531476829200983\n",
      "\n",
      "Epoch 12/49\n",
      "----------\n"
     ]
    },
    {
     "name": "stderr",
     "output_type": "stream",
     "text": [
      "Epoch 12 train: 100% 240/240 [02:10<00:00,  1.84it/s, bce_center=0.00030, bce_mask=0.00122, dice=0.00634, dice_center=0.03509, l2_height=0.00131, l2_width=0.00131, loss=0.04557]\n",
      "Epoch 12 val:   5% 1/20 [00:00<00:03,  6.10it/s, bce_center=0.00018, bce_mask=0.00087, dice=0.00603, dice_center=0.02874, l2_height=0.00104, l2_width=0.00102, loss=0.03788]"
     ]
    },
    {
     "name": "stdout",
     "output_type": "stream",
     "text": [
      "train_bce_mask 0.0012232625243389823\n",
      "train_dice 0.00634425378520973\n",
      "train_bce_center 0.00029845256849512223\n",
      "train_dice_center 0.03508869969906906\n",
      "train_l2_width 0.0013091449734929483\n",
      "train_l2_height 0.0013072838138517304\n",
      "train_loss 0.04557109748323759\n"
     ]
    },
    {
     "name": "stderr",
     "output_type": "stream",
     "text": [
      "Epoch 12 val: 100% 20/20 [00:03<00:00,  6.06it/s, bce_center=0.00029, bce_mask=0.00126, dice=0.00679, dice_center=0.03562, l2_height=0.00126, l2_width=0.00123, loss=0.04646]\n",
      "Epoch 13 train:   0% 0/240 [00:00<?, ?it/s]"
     ]
    },
    {
     "name": "stdout",
     "output_type": "stream",
     "text": [
      "val_bce_mask 0.0012616681429790332\n",
      "val_dice 0.006785193365067244\n",
      "val_bce_center 0.0002944329542515334\n",
      "val_dice_center 0.03562233159318566\n",
      "val_l2_width 0.0012346625968348234\n",
      "val_l2_height 0.0012583954958245158\n",
      "val_loss 0.04645668361335993\n",
      "Saving the best model state dict\n",
      "\n",
      "Epoch 13/49\n",
      "----------\n"
     ]
    },
    {
     "name": "stderr",
     "output_type": "stream",
     "text": [
      "Epoch 13 train: 100% 240/240 [02:10<00:00,  1.82it/s, bce_center=0.00027, bce_mask=0.00117, dice=0.00612, dice_center=0.03053, l2_height=0.00124, l2_width=0.00126, loss=0.04060]\n",
      "Epoch 13 val:   5% 1/20 [00:00<00:03,  5.95it/s, bce_center=0.00032, bce_mask=0.00098, dice=0.00769, dice_center=0.03800, l2_height=0.00128, l2_width=0.00127, loss=0.04953]"
     ]
    },
    {
     "name": "stdout",
     "output_type": "stream",
     "text": [
      "train_bce_mask 0.001171879839967005\n",
      "train_dice 0.0061238804628374055\n",
      "train_bce_center 0.00027373316276377106\n",
      "train_dice_center 0.030532210071881612\n",
      "train_l2_width 0.0012555986165049642\n",
      "train_l2_height 0.0012434500468467983\n",
      "train_loss 0.04060075213201344\n"
     ]
    },
    {
     "name": "stderr",
     "output_type": "stream",
     "text": [
      "Epoch 13 val: 100% 20/20 [00:03<00:00,  6.11it/s, bce_center=0.00028, bce_mask=0.00116, dice=0.00698, dice_center=0.03329, l2_height=0.00113, l2_width=0.00109, loss=0.04393]\n",
      "Epoch 14 train:   0% 0/240 [00:00<?, ?it/s]"
     ]
    },
    {
     "name": "stdout",
     "output_type": "stream",
     "text": [
      "val_bce_mask 0.0011608556058490648\n",
      "val_dice 0.006977832363918424\n",
      "val_bce_center 0.000275777551723877\n",
      "val_dice_center 0.033289145305752756\n",
      "val_l2_width 0.0010906144889304414\n",
      "val_l2_height 0.0011333899426972493\n",
      "val_loss 0.043927616253495214\n",
      "Saving the best model state dict\n",
      "\n",
      "Epoch 14/49\n",
      "----------\n"
     ]
    },
    {
     "name": "stderr",
     "output_type": "stream",
     "text": [
      "Epoch 14 train: 100% 240/240 [02:10<00:00,  1.84it/s, bce_center=0.00025, bce_mask=0.00110, dice=0.00580, dice_center=0.02651, l2_height=0.00111, l2_width=0.00112, loss=0.03589]\n",
      "Epoch 14 val:   5% 1/20 [00:00<00:03,  5.18it/s, bce_center=0.00052, bce_mask=0.00186, dice=0.00929, dice_center=0.03655, l2_height=0.00105, l2_width=0.00103, loss=0.05029]"
     ]
    },
    {
     "name": "stdout",
     "output_type": "stream",
     "text": [
      "train_bce_mask 0.0010952904896839755\n",
      "train_dice 0.005801176365154485\n",
      "train_bce_center 0.0002497437030494135\n",
      "train_dice_center 0.026511384500190617\n",
      "train_l2_width 0.0011247518870125836\n",
      "train_l2_height 0.0011055896281807994\n",
      "train_loss 0.035887936619110404\n"
     ]
    },
    {
     "name": "stderr",
     "output_type": "stream",
     "text": [
      "Epoch 14 val: 100% 20/20 [00:03<00:00,  6.18it/s, bce_center=0.00024, bce_mask=0.00104, dice=0.00640, dice_center=0.02787, l2_height=0.00095, l2_width=0.00099, loss=0.03748]\n",
      "Epoch 15 train:   0% 0/240 [00:00<?, ?it/s]"
     ]
    },
    {
     "name": "stdout",
     "output_type": "stream",
     "text": [
      "val_bce_mask 0.0010423131403513252\n",
      "val_dice 0.006398239429108799\n",
      "val_bce_center 0.00023594231461174787\n",
      "val_dice_center 0.02787026111036539\n",
      "val_l2_width 0.0009894350718241186\n",
      "val_l2_height 0.0009476433857344091\n",
      "val_loss 0.03748383466154337\n",
      "Saving the best model state dict\n",
      "\n",
      "Epoch 15/49\n",
      "----------\n"
     ]
    },
    {
     "name": "stderr",
     "output_type": "stream",
     "text": [
      "Epoch 15 train: 100% 240/240 [02:10<00:00,  1.83it/s, bce_center=0.00021, bce_mask=0.00103, dice=0.00555, dice_center=0.02054, l2_height=0.00107, l2_width=0.00108, loss=0.02948]\n",
      "Epoch 15 val:   5% 1/20 [00:00<00:03,  6.14it/s, bce_center=0.00022, bce_mask=0.00145, dice=0.00806, dice_center=0.02712, l2_height=0.00122, l2_width=0.00136, loss=0.03944]"
     ]
    },
    {
     "name": "stdout",
     "output_type": "stream",
     "text": [
      "train_bce_mask 0.0010295660040962199\n",
      "train_dice 0.005554497284659495\n",
      "train_bce_center 0.00021209301686819041\n",
      "train_dice_center 0.020536596491001546\n",
      "train_l2_width 0.001077514822827652\n",
      "train_l2_height 0.0010713867425996189\n",
      "train_loss 0.02948165435809642\n"
     ]
    },
    {
     "name": "stderr",
     "output_type": "stream",
     "text": [
      "Epoch 15 val: 100% 20/20 [00:03<00:00,  6.10it/s, bce_center=0.00024, bce_mask=0.00125, dice=0.00670, dice_center=0.02735, l2_height=0.00119, l2_width=0.00130, loss=0.03803]\n",
      "Epoch 16 train:   0% 0/240 [00:00<?, ?it/s]"
     ]
    },
    {
     "name": "stdout",
     "output_type": "stream",
     "text": [
      "val_bce_mask 0.0012506516941357404\n",
      "val_dice 0.00669901401270181\n",
      "val_bce_center 0.00023777912138029934\n",
      "val_dice_center 0.02734622322022915\n",
      "val_l2_width 0.0013034188712481409\n",
      "val_l2_height 0.0011904200247954578\n",
      "val_loss 0.03802750753238797\n",
      "\n",
      "Epoch 16/49\n",
      "----------\n"
     ]
    },
    {
     "name": "stderr",
     "output_type": "stream",
     "text": [
      "Epoch 16 train: 100% 240/240 [02:10<00:00,  1.85it/s, bce_center=0.00020, bce_mask=0.00097, dice=0.00525, dice_center=0.01854, l2_height=0.00108, l2_width=0.00106, loss=0.02710]\n",
      "Epoch 16 val:   5% 1/20 [00:00<00:03,  6.02it/s, bce_center=0.00027, bce_mask=0.00089, dice=0.00594, dice_center=0.02495, l2_height=0.00098, l2_width=0.00099, loss=0.03402]"
     ]
    },
    {
     "name": "stdout",
     "output_type": "stream",
     "text": [
      "train_bce_mask 0.0009734528031306884\n",
      "train_dice 0.0052477912628091875\n",
      "train_bce_center 0.00019532541215691406\n",
      "train_dice_center 0.018540382909122854\n",
      "train_l2_width 0.001060652379480113\n",
      "train_l2_height 0.0010777881647906422\n",
      "train_loss 0.027095393110842754\n"
     ]
    },
    {
     "name": "stderr",
     "output_type": "stream",
     "text": [
      "Epoch 16 val: 100% 20/20 [00:03<00:00,  5.99it/s, bce_center=0.00024, bce_mask=0.00097, dice=0.00560, dice_center=0.02798, l2_height=0.00093, l2_width=0.00097, loss=0.03670]\n",
      "Epoch 17 train:   0% 0/240 [00:00<?, ?it/s]"
     ]
    },
    {
     "name": "stdout",
     "output_type": "stream",
     "text": [
      "val_bce_mask 0.0009719523921376094\n",
      "val_dice 0.005603794381022454\n",
      "val_bce_center 0.0002442135308228899\n",
      "val_dice_center 0.027978815138339996\n",
      "val_l2_width 0.0009683944634161889\n",
      "val_l2_height 0.0009290566522395238\n",
      "val_loss 0.03669622708112001\n",
      "Saving the best model state dict\n",
      "\n",
      "Epoch 17/49\n",
      "----------\n"
     ]
    },
    {
     "name": "stderr",
     "output_type": "stream",
     "text": [
      "Epoch 17 train: 100% 240/240 [02:10<00:00,  1.86it/s, bce_center=0.00019, bce_mask=0.00091, dice=0.00498, dice_center=0.01752, l2_height=0.00097, l2_width=0.00097, loss=0.02554]\n",
      "Epoch 17 val:   5% 1/20 [00:00<00:03,  5.98it/s, bce_center=0.00027, bce_mask=0.00093, dice=0.00648, dice_center=0.03022, l2_height=0.00100, l2_width=0.00116, loss=0.04006]"
     ]
    },
    {
     "name": "stdout",
     "output_type": "stream",
     "text": [
      "train_bce_mask 0.000911439636790116\n",
      "train_dice 0.004984090970053027\n",
      "train_bce_center 0.00018778628204927373\n",
      "train_dice_center 0.01751995365290592\n",
      "train_l2_width 0.0009708360574829082\n",
      "train_l2_height 0.0009654723493440542\n",
      "train_loss 0.025539579036800812\n"
     ]
    },
    {
     "name": "stderr",
     "output_type": "stream",
     "text": [
      "Epoch 17 val: 100% 20/20 [00:03<00:00,  6.06it/s, bce_center=0.00021, bce_mask=0.00090, dice=0.00577, dice_center=0.02273, l2_height=0.00096, l2_width=0.00105, loss=0.03161]\n",
      "Epoch 18 train:   0% 0/240 [00:00<?, ?it/s]"
     ]
    },
    {
     "name": "stdout",
     "output_type": "stream",
     "text": [
      "val_bce_mask 0.0008975222008302808\n",
      "val_dice 0.005767724558245391\n",
      "val_bce_center 0.00020823142840527\n",
      "val_dice_center 0.022727589681744577\n",
      "val_l2_width 0.0010498472955077886\n",
      "val_l2_height 0.0009590160276275128\n",
      "val_loss 0.03160993084311485\n",
      "Saving the best model state dict\n",
      "\n",
      "Epoch 18/49\n",
      "----------\n"
     ]
    },
    {
     "name": "stderr",
     "output_type": "stream",
     "text": [
      "Epoch 18 train: 100% 240/240 [02:10<00:00,  1.84it/s, bce_center=0.00016, bce_mask=0.00084, dice=0.00482, dice_center=0.01469, l2_height=0.00097, l2_width=0.00097, loss=0.02245]\n",
      "Epoch 18 val:   5% 1/20 [00:00<00:03,  5.72it/s, bce_center=0.00026, bce_mask=0.00087, dice=0.00467, dice_center=0.02746, l2_height=0.00079, l2_width=0.00078, loss=0.03483]"
     ]
    },
    {
     "name": "stdout",
     "output_type": "stream",
     "text": [
      "train_bce_mask 0.0008435852155040872\n",
      "train_dice 0.004818556533427909\n",
      "train_bce_center 0.00016406319021674184\n",
      "train_dice_center 0.014691829599905759\n",
      "train_l2_width 0.0009663814795203507\n",
      "train_l2_height 0.0009675659028289374\n",
      "train_loss 0.02245198192152505\n"
     ]
    },
    {
     "name": "stderr",
     "output_type": "stream",
     "text": [
      "Epoch 18 val: 100% 20/20 [00:03<00:00,  6.07it/s, bce_center=0.00025, bce_mask=0.00092, dice=0.00645, dice_center=0.02711, l2_height=0.00084, l2_width=0.00085, loss=0.03641]\n",
      "Epoch 19 train:   0% 0/240 [00:00<?, ?it/s]"
     ]
    },
    {
     "name": "stdout",
     "output_type": "stream",
     "text": [
      "val_bce_mask 0.000916397015680559\n",
      "val_dice 0.006453745381440968\n",
      "val_bce_center 0.00024599753160146063\n",
      "val_dice_center 0.0271100009791553\n",
      "val_l2_width 0.0008457980991806835\n",
      "val_l2_height 0.0008425767591688782\n",
      "val_loss 0.03641451569274068\n",
      "\n",
      "Epoch 19/49\n",
      "----------\n"
     ]
    },
    {
     "name": "stderr",
     "output_type": "stream",
     "text": [
      "Epoch 19 train: 100% 240/240 [02:10<00:00,  1.84it/s, bce_center=0.00015, bce_mask=0.00080, dice=0.00471, dice_center=0.01288, l2_height=0.00091, l2_width=0.00090, loss=0.02035]\n",
      "Epoch 19 val:   5% 1/20 [00:00<00:03,  5.69it/s, bce_center=0.00017, bce_mask=0.00066, dice=0.00414, dice_center=0.01855, l2_height=0.00083, l2_width=0.00077, loss=0.02511]"
     ]
    },
    {
     "name": "stdout",
     "output_type": "stream",
     "text": [
      "train_bce_mask 0.0007997262478359819\n",
      "train_dice 0.00471129338548053\n",
      "train_bce_center 0.0001479028608173394\n",
      "train_dice_center 0.012882503426711385\n",
      "train_l2_width 0.0009025076476973481\n",
      "train_l2_height 0.0009066079452168197\n",
      "train_loss 0.020350541519777228\n"
     ]
    },
    {
     "name": "stderr",
     "output_type": "stream",
     "text": [
      "Epoch 19 val: 100% 20/20 [00:03<00:00,  6.11it/s, bce_center=0.00018, bce_mask=0.00087, dice=0.00594, dice_center=0.01966, l2_height=0.00086, l2_width=0.00081, loss=0.02832]\n",
      "Epoch 20 train:   0% 0/240 [00:00<?, ?it/s]"
     ]
    },
    {
     "name": "stdout",
     "output_type": "stream",
     "text": [
      "val_bce_mask 0.0008702686434844508\n",
      "val_dice 0.005940701335202902\n",
      "val_bce_center 0.00018036776782537345\n",
      "val_dice_center 0.019656894216313957\n",
      "val_l2_width 0.000813191948691383\n",
      "val_l2_height 0.0008580510941101239\n",
      "val_loss 0.028319474402815105\n",
      "Saving the best model state dict\n",
      "\n",
      "Epoch 20/49\n",
      "----------\n"
     ]
    },
    {
     "name": "stderr",
     "output_type": "stream",
     "text": [
      "Epoch 20 train: 100% 240/240 [02:10<00:00,  1.84it/s, bce_center=0.00013, bce_mask=0.00072, dice=0.00426, dice_center=0.01072, l2_height=0.00088, l2_width=0.00087, loss=0.01758]\n",
      "Epoch 20 val:   5% 1/20 [00:00<00:03,  5.96it/s, bce_center=0.00014, bce_mask=0.00076, dice=0.00424, dice_center=0.01602, l2_height=0.00063, l2_width=0.00063, loss=0.02242]"
     ]
    },
    {
     "name": "stdout",
     "output_type": "stream",
     "text": [
      "train_bce_mask 0.0007159358642335671\n",
      "train_dice 0.004258053220110014\n",
      "train_bce_center 0.00013078777718268005\n",
      "train_dice_center 0.010723250217658157\n",
      "train_l2_width 0.0008706758768918613\n",
      "train_l2_height 0.0008788731380870255\n",
      "train_loss 0.01757757612892116\n"
     ]
    },
    {
     "name": "stderr",
     "output_type": "stream",
     "text": [
      "Epoch 20 val: 100% 20/20 [00:03<00:00,  6.06it/s, bce_center=0.00018, bce_mask=0.00075, dice=0.00497, dice_center=0.01985, l2_height=0.00074, l2_width=0.00074, loss=0.02724]\n",
      "Epoch 21 train:   0% 0/240 [00:00<?, ?it/s]"
     ]
    },
    {
     "name": "stdout",
     "output_type": "stream",
     "text": [
      "val_bce_mask 0.0007537624420365319\n",
      "val_dice 0.004973989212885499\n",
      "val_bce_center 0.00018292942440893966\n",
      "val_dice_center 0.0198482078500092\n",
      "val_l2_width 0.0007441713503794744\n",
      "val_l2_height 0.0007382714858977125\n",
      "val_loss 0.027241332456469536\n",
      "Saving the best model state dict\n",
      "\n",
      "Epoch 21/49\n",
      "----------\n"
     ]
    },
    {
     "name": "stderr",
     "output_type": "stream",
     "text": [
      "Epoch 21 train: 100% 240/240 [02:10<00:00,  1.84it/s, bce_center=0.00012, bce_mask=0.00067, dice=0.00407, dice_center=0.00977, l2_height=0.00083, l2_width=0.00082, loss=0.01627]\n",
      "Epoch 21 val:   5% 1/20 [00:00<00:03,  5.60it/s, bce_center=0.00027, bce_mask=0.00069, dice=0.00394, dice_center=0.01907, l2_height=0.00076, l2_width=0.00078, loss=0.02552]"
     ]
    },
    {
     "name": "stdout",
     "output_type": "stream",
     "text": [
      "train_bce_mask 0.0006665288789614957\n",
      "train_dice 0.004067158587470961\n",
      "train_bce_center 0.0001199137960459969\n",
      "train_dice_center 0.009773540329964211\n",
      "train_l2_width 0.0008164794300682843\n",
      "train_l2_height 0.0008310819823236671\n",
      "train_loss 0.01627470300300047\n"
     ]
    },
    {
     "name": "stderr",
     "output_type": "stream",
     "text": [
      "Epoch 21 val: 100% 20/20 [00:03<00:00,  6.12it/s, bce_center=0.00016, bce_mask=0.00077, dice=0.00536, dice_center=0.01723, l2_height=0.00079, l2_width=0.00080, loss=0.02511]\n",
      "Epoch 22 train:   0% 0/240 [00:00<?, ?it/s]"
     ]
    },
    {
     "name": "stdout",
     "output_type": "stream",
     "text": [
      "val_bce_mask 0.0007658368107513524\n",
      "val_dice 0.005357669282238931\n",
      "val_bce_center 0.00016193759729503653\n",
      "val_dice_center 0.017233405169099568\n",
      "val_l2_width 0.0008002354938071221\n",
      "val_l2_height 0.000790766577119939\n",
      "val_loss 0.02510985117405653\n",
      "Saving the best model state dict\n",
      "\n",
      "Epoch 22/49\n",
      "----------\n"
     ]
    },
    {
     "name": "stderr",
     "output_type": "stream",
     "text": [
      "Epoch 22 train: 100% 240/240 [02:10<00:00,  1.83it/s, bce_center=0.00011, bce_mask=0.00062, dice=0.00389, dice_center=0.00844, l2_height=0.00077, l2_width=0.00079, loss=0.01462]\n",
      "Epoch 22 val:   5% 1/20 [00:00<00:03,  5.68it/s, bce_center=0.00019, bce_mask=0.00060, dice=0.00416, dice_center=0.02264, l2_height=0.00089, l2_width=0.00086, loss=0.02934]"
     ]
    },
    {
     "name": "stdout",
     "output_type": "stream",
     "text": [
      "train_bce_mask 0.0006210878358009116\n",
      "train_dice 0.003891055271378718\n",
      "train_bce_center 0.00010808820287214379\n",
      "train_dice_center 0.0084448294636483\n",
      "train_l2_width 0.000786095666262554\n",
      "train_l2_height 0.0007725302646576892\n",
      "train_loss 0.014623686803194385\n"
     ]
    },
    {
     "name": "stderr",
     "output_type": "stream",
     "text": [
      "Epoch 22 val: 100% 20/20 [00:03<00:00,  6.00it/s, bce_center=0.00019, bce_mask=0.00066, dice=0.00490, dice_center=0.02117, l2_height=0.00076, l2_width=0.00076, loss=0.02844]\n",
      "Epoch 23 train:   0% 0/240 [00:00<?, ?it/s]"
     ]
    },
    {
     "name": "stdout",
     "output_type": "stream",
     "text": [
      "val_bce_mask 0.0006568211538251489\n",
      "val_dice 0.004899399064015597\n",
      "val_bce_center 0.00019078556324529926\n",
      "val_dice_center 0.02117149024270475\n",
      "val_l2_width 0.0007565503532532602\n",
      "val_l2_height 0.0007613153487909585\n",
      "val_loss 0.028436361625790597\n",
      "\n",
      "Epoch 23/49\n",
      "----------\n"
     ]
    },
    {
     "name": "stderr",
     "output_type": "stream",
     "text": [
      "Epoch 23 train: 100% 240/240 [02:10<00:00,  1.84it/s, bce_center=0.00010, bce_mask=0.00059, dice=0.00384, dice_center=0.00864, l2_height=0.00081, l2_width=0.00081, loss=0.01480]\n",
      "Epoch 23 val:   5% 1/20 [00:00<00:03,  6.18it/s, bce_center=0.00018, bce_mask=0.00073, dice=0.00902, dice_center=0.01653, l2_height=0.00060, l2_width=0.00062, loss=0.02768]"
     ]
    },
    {
     "name": "stdout",
     "output_type": "stream",
     "text": [
      "train_bce_mask 0.000593934532419856\n",
      "train_dice 0.0038415361186101412\n",
      "train_bce_center 0.00010241344421804874\n",
      "train_dice_center 0.00864224782853853\n",
      "train_l2_width 0.0008100937680865173\n",
      "train_l2_height 0.0008092248300575496\n",
      "train_loss 0.014799450504748771\n"
     ]
    },
    {
     "name": "stderr",
     "output_type": "stream",
     "text": [
      "Epoch 23 val: 100% 20/20 [00:03<00:00,  6.08it/s, bce_center=0.00015, bce_mask=0.00078, dice=0.00548, dice_center=0.01527, l2_height=0.00066, l2_width=0.00068, loss=0.02302]\n",
      "Epoch 24 train:   0% 0/240 [00:00<?, ?it/s]"
     ]
    },
    {
     "name": "stdout",
     "output_type": "stream",
     "text": [
      "val_bce_mask 0.0007760246473480948\n",
      "val_dice 0.00548468241468072\n",
      "val_bce_center 0.00014537937222485197\n",
      "val_dice_center 0.015272404253482818\n",
      "val_l2_width 0.0006803686206694693\n",
      "val_l2_height 0.0006565359552041627\n",
      "val_loss 0.023015395272523165\n",
      "Saving the best model state dict\n",
      "\n",
      "Epoch 24/49\n",
      "----------\n"
     ]
    },
    {
     "name": "stderr",
     "output_type": "stream",
     "text": [
      "Epoch 24 train: 100% 240/240 [02:10<00:00,  1.83it/s, bce_center=0.00009, bce_mask=0.00057, dice=0.00373, dice_center=0.00722, l2_height=0.00077, l2_width=0.00077, loss=0.01314]\n",
      "Epoch 24 val:   5% 1/20 [00:00<00:03,  5.67it/s, bce_center=0.00011, bce_mask=0.00044, dice=0.00437, dice_center=0.01587, l2_height=0.00070, l2_width=0.00070, loss=0.02220]"
     ]
    },
    {
     "name": "stdout",
     "output_type": "stream",
     "text": [
      "train_bce_mask 0.0005666889492204064\n",
      "train_dice 0.0037269170323270375\n",
      "train_bce_center 9.073198937130656e-05\n",
      "train_dice_center 0.007219329704336512\n",
      "train_l2_width 0.0007695406082348199\n",
      "train_l2_height 0.000770353086409159\n",
      "train_loss 0.013143561338074506\n"
     ]
    },
    {
     "name": "stderr",
     "output_type": "stream",
     "text": [
      "Epoch 24 val: 100% 20/20 [00:03<00:00,  6.16it/s, bce_center=0.00015, bce_mask=0.00062, dice=0.00479, dice_center=0.01597, l2_height=0.00082, l2_width=0.00074, loss=0.02309]\n",
      "Epoch 25 train:   0% 0/240 [00:00<?, ?it/s]"
     ]
    },
    {
     "name": "stdout",
     "output_type": "stream",
     "text": [
      "val_bce_mask 0.0006243011594051495\n",
      "val_dice 0.004794785438571125\n",
      "val_bce_center 0.00014715247343701776\n",
      "val_dice_center 0.01596726649440825\n",
      "val_l2_width 0.0007414189603878185\n",
      "val_l2_height 0.0008160026773111895\n",
      "val_loss 0.023090927489101888\n",
      "\n",
      "Epoch 25/49\n",
      "----------\n"
     ]
    },
    {
     "name": "stderr",
     "output_type": "stream",
     "text": [
      "Epoch 25 train: 100% 240/240 [02:10<00:00,  1.84it/s, bce_center=0.00008, bce_mask=0.00058, dice=0.00379, dice_center=0.00677, l2_height=0.00078, l2_width=0.00077, loss=0.01276]\n",
      "Epoch 25 val:   5% 1/20 [00:00<00:03,  6.05it/s, bce_center=0.00010, bce_mask=0.00102, dice=0.00606, dice_center=0.01348, l2_height=0.00116, l2_width=0.00120, loss=0.02302]"
     ]
    },
    {
     "name": "stdout",
     "output_type": "stream",
     "text": [
      "train_bce_mask 0.0005781204869587478\n",
      "train_dice 0.0037854192773617494\n",
      "train_bce_center 8.342124076534673e-05\n",
      "train_dice_center 0.006766507311355478\n",
      "train_l2_width 0.0007719373434762626\n",
      "train_l2_height 0.0007777152891018583\n",
      "train_loss 0.012763120949966834\n"
     ]
    },
    {
     "name": "stderr",
     "output_type": "stream",
     "text": [
      "Epoch 25 val: 100% 20/20 [00:03<00:00,  6.19it/s, bce_center=0.00014, bce_mask=0.00061, dice=0.00482, dice_center=0.01422, l2_height=0.00112, l2_width=0.00118, loss=0.02209]\n",
      "Epoch 26 train:   0% 0/240 [00:00<?, ?it/s]"
     ]
    },
    {
     "name": "stdout",
     "output_type": "stream",
     "text": [
      "val_bce_mask 0.0006065711204428226\n",
      "val_dice 0.004815854493062943\n",
      "val_bce_center 0.00013872016061213798\n",
      "val_dice_center 0.01422302653081715\n",
      "val_l2_width 0.001183381289592944\n",
      "val_l2_height 0.0011213692458113655\n",
      "val_loss 0.02208892316557467\n",
      "Saving the best model state dict\n",
      "\n",
      "Epoch 26/49\n",
      "----------\n"
     ]
    },
    {
     "name": "stderr",
     "output_type": "stream",
     "text": [
      "Epoch 26 train: 100% 240/240 [02:10<00:00,  1.83it/s, bce_center=0.00008, bce_mask=0.00053, dice=0.00353, dice_center=0.00678, l2_height=0.00077, l2_width=0.00076, loss=0.01246]\n",
      "Epoch 26 val:   5% 1/20 [00:00<00:03,  6.12it/s, bce_center=0.00007, bce_mask=0.00052, dice=0.00448, dice_center=0.01046, l2_height=0.00074, l2_width=0.00072, loss=0.01700]"
     ]
    },
    {
     "name": "stdout",
     "output_type": "stream",
     "text": [
      "train_bce_mask 0.0005312501639006466\n",
      "train_dice 0.003534774198487867\n",
      "train_bce_center 8.123806453947206e-05\n",
      "train_dice_center 0.006783881540953492\n",
      "train_l2_width 0.0007599392047268339\n",
      "train_l2_height 0.0007683825446292758\n",
      "train_loss 0.012459465651772916\n"
     ]
    },
    {
     "name": "stderr",
     "output_type": "stream",
     "text": [
      "Epoch 26 val: 100% 20/20 [00:03<00:00,  6.14it/s, bce_center=0.00012, bce_mask=0.00062, dice=0.00418, dice_center=0.01295, l2_height=0.00066, l2_width=0.00064, loss=0.01916]\n",
      "Epoch 27 train:   0% 0/240 [00:00<?, ?it/s]"
     ]
    },
    {
     "name": "stdout",
     "output_type": "stream",
     "text": [
      "val_bce_mask 0.0006156381030450575\n",
      "val_dice 0.0041769931674934925\n",
      "val_bce_center 0.00012124579352530418\n",
      "val_dice_center 0.012946981005370617\n",
      "val_l2_width 0.0006389633199432865\n",
      "val_l2_height 0.0006568051758222282\n",
      "val_loss 0.019156626239418984\n",
      "Saving the best model state dict\n",
      "\n",
      "Epoch 27/49\n",
      "----------\n"
     ]
    },
    {
     "name": "stderr",
     "output_type": "stream",
     "text": [
      "Epoch 27 train: 100% 240/240 [02:10<00:00,  1.84it/s, bce_center=0.00007, bce_mask=0.00049, dice=0.00333, dice_center=0.00564, l2_height=0.00073, l2_width=0.00071, loss=0.01097]\n",
      "Epoch 27 val:   5% 1/20 [00:00<00:03,  6.13it/s, bce_center=0.00006, bce_mask=0.00041, dice=0.00301, dice_center=0.00788, l2_height=0.00085, l2_width=0.00075, loss=0.01295]"
     ]
    },
    {
     "name": "stdout",
     "output_type": "stream",
     "text": [
      "train_bce_mask 0.0004928953544246421\n",
      "train_dice 0.0033251237250321235\n",
      "train_bce_center 6.96682552643324e-05\n",
      "train_dice_center 0.005636269083091368\n",
      "train_l2_width 0.000708506125981027\n",
      "train_l2_height 0.0007346355762517002\n",
      "train_loss 0.010967098073645805\n"
     ]
    },
    {
     "name": "stderr",
     "output_type": "stream",
     "text": [
      "Epoch 27 val: 100% 20/20 [00:03<00:00,  5.86it/s, bce_center=0.00013, bce_mask=0.00057, dice=0.00422, dice_center=0.01361, l2_height=0.00084, l2_width=0.00079, loss=0.02015]\n",
      "Epoch 28 train:   0% 0/240 [00:00<?, ?it/s]"
     ]
    },
    {
     "name": "stdout",
     "output_type": "stream",
     "text": [
      "val_bce_mask 0.000569557206472382\n",
      "val_dice 0.0042197596281766895\n",
      "val_bce_center 0.000129291371194995\n",
      "val_dice_center 0.013607452111318707\n",
      "val_l2_width 0.0007880751421907916\n",
      "val_l2_height 0.0008358655584743246\n",
      "val_loss 0.020150000881403684\n",
      "\n",
      "Epoch 28/49\n",
      "----------\n"
     ]
    },
    {
     "name": "stderr",
     "output_type": "stream",
     "text": [
      "Epoch 28 train: 100% 240/240 [02:10<00:00,  1.84it/s, bce_center=0.00006, bce_mask=0.00048, dice=0.00330, dice_center=0.00475, l2_height=0.00070, l2_width=0.00070, loss=0.00999]\n",
      "Epoch 28 val:   5% 1/20 [00:00<00:03,  6.07it/s, bce_center=0.00014, bce_mask=0.00063, dice=0.00455, dice_center=0.01371, l2_height=0.00063, l2_width=0.00059, loss=0.02025]"
     ]
    },
    {
     "name": "stdout",
     "output_type": "stream",
     "text": [
      "train_bce_mask 0.0004830877927209561\n",
      "train_dice 0.003299256244402689\n",
      "train_bce_center 6.168817947317014e-05\n",
      "train_dice_center 0.0047483486690907736\n",
      "train_l2_width 0.0006973215299998022\n",
      "train_l2_height 0.0006954190010825793\n",
      "train_loss 0.009985121422990536\n"
     ]
    },
    {
     "name": "stderr",
     "output_type": "stream",
     "text": [
      "Epoch 28 val: 100% 20/20 [00:03<00:00,  6.11it/s, bce_center=0.00011, bce_mask=0.00054, dice=0.00384, dice_center=0.01172, l2_height=0.00064, l2_width=0.00061, loss=0.01746]\n",
      "Epoch 29 train:   0% 0/240 [00:00<?, ?it/s]"
     ]
    },
    {
     "name": "stdout",
     "output_type": "stream",
     "text": [
      "val_bce_mask 0.0005359858550946228\n",
      "val_dice 0.003841341193765402\n",
      "val_bce_center 0.0001110196884837933\n",
      "val_dice_center 0.011718746554106475\n",
      "val_l2_width 0.0006132177368272096\n",
      "val_l2_height 0.0006404393643606454\n",
      "val_loss 0.017460750276222826\n",
      "Saving the best model state dict\n",
      "\n",
      "Epoch 29/49\n",
      "----------\n"
     ]
    },
    {
     "name": "stderr",
     "output_type": "stream",
     "text": [
      "Epoch 29 train: 100% 240/240 [02:10<00:00,  1.86it/s, bce_center=0.00006, bce_mask=0.00044, dice=0.00307, dice_center=0.00445, l2_height=0.00071, l2_width=0.00071, loss=0.00945]\n",
      "Epoch 29 val:   5% 1/20 [00:00<00:03,  5.77it/s, bce_center=0.00007, bce_mask=0.00044, dice=0.00353, dice_center=0.01036, l2_height=0.00082, l2_width=0.00079, loss=0.01600]"
     ]
    },
    {
     "name": "stdout",
     "output_type": "stream",
     "text": [
      "train_bce_mask 0.00044272473454232873\n",
      "train_dice 0.003072112154040951\n",
      "train_bce_center 5.602849765485492e-05\n",
      "train_dice_center 0.004450291727941173\n",
      "train_l2_width 0.0007149819756402091\n",
      "train_l2_height 0.0007113286530511687\n",
      "train_loss 0.009447467709348227\n"
     ]
    },
    {
     "name": "stderr",
     "output_type": "stream",
     "text": [
      "Epoch 29 val: 100% 20/20 [00:03<00:00,  6.20it/s, bce_center=0.00012, bce_mask=0.00049, dice=0.00397, dice_center=0.01160, l2_height=0.00096, l2_width=0.00093, loss=0.01808]\n",
      "Epoch 30 train:   0% 0/240 [00:00<?, ?it/s]"
     ]
    },
    {
     "name": "stdout",
     "output_type": "stream",
     "text": [
      "val_bce_mask 0.000494853180134669\n",
      "val_dice 0.003972360072657466\n",
      "val_bce_center 0.00011581244434637483\n",
      "val_dice_center 0.011601327056996524\n",
      "val_l2_width 0.0009311179514043033\n",
      "val_l2_height 0.0009600516292266548\n",
      "val_loss 0.01807552236132324\n",
      "\n",
      "Epoch 30/49\n",
      "----------\n"
     ]
    },
    {
     "name": "stderr",
     "output_type": "stream",
     "text": [
      "Epoch 30 train: 100% 240/240 [02:10<00:00,  1.85it/s, bce_center=0.00005, bce_mask=0.00042, dice=0.00300, dice_center=0.00413, l2_height=0.00062, l2_width=0.00065, loss=0.00888]\n",
      "Epoch 30 val:   5% 1/20 [00:00<00:03,  6.10it/s, bce_center=0.00016, bce_mask=0.00062, dice=0.00394, dice_center=0.01331, l2_height=0.00077, l2_width=0.00082, loss=0.01961]"
     ]
    },
    {
     "name": "stdout",
     "output_type": "stream",
     "text": [
      "train_bce_mask 0.00042339580359112005\n",
      "train_dice 0.0030025357603638745\n",
      "train_bce_center 5.086279462223805e-05\n",
      "train_dice_center 0.0041340836736101965\n",
      "train_l2_width 0.0006452350040490274\n",
      "train_l2_height 0.0006193213752946273\n",
      "train_loss 0.00887543440136748\n"
     ]
    },
    {
     "name": "stderr",
     "output_type": "stream",
     "text": [
      "Epoch 30 val: 100% 20/20 [00:03<00:00,  6.05it/s, bce_center=0.00011, bce_mask=0.00051, dice=0.00424, dice_center=0.01279, l2_height=0.00076, l2_width=0.00080, loss=0.01923]\n",
      "Epoch 31 train:   0% 0/240 [00:00<?, ?it/s]"
     ]
    },
    {
     "name": "stdout",
     "output_type": "stream",
     "text": [
      "val_bce_mask 0.0005132326405146159\n",
      "val_dice 0.004243815585505217\n",
      "val_bce_center 0.00011484909991850145\n",
      "val_dice_center 0.012794873374514282\n",
      "val_l2_width 0.0008042938279686496\n",
      "val_l2_height 0.0007581051933811978\n",
      "val_loss 0.01922916965559125\n",
      "Epoch    30: reducing learning rate of group 0 to 1.0000e-05.\n",
      "\n",
      "Epoch 31/49\n",
      "----------\n"
     ]
    },
    {
     "name": "stderr",
     "output_type": "stream",
     "text": [
      "Epoch 31 train: 100% 240/240 [02:10<00:00,  1.84it/s, bce_center=0.00004, bce_mask=0.00038, dice=0.00274, dice_center=0.00270, l2_height=0.00048, l2_width=0.00049, loss=0.00683]\n",
      "Epoch 31 val:   5% 1/20 [00:00<00:03,  6.09it/s, bce_center=0.00014, bce_mask=0.00044, dice=0.00288, dice_center=0.01241, l2_height=0.00066, l2_width=0.00069, loss=0.01722]"
     ]
    },
    {
     "name": "stdout",
     "output_type": "stream",
     "text": [
      "train_bce_mask 0.00038002799713770705\n",
      "train_dice 0.0027414483857379915\n",
      "train_bce_center 3.9773068448785885e-05\n",
      "train_dice_center 0.0027024157861887943\n",
      "train_l2_width 0.00048771481269795915\n",
      "train_l2_height 0.00048198105954118847\n",
      "train_loss 0.006833361080498435\n"
     ]
    },
    {
     "name": "stderr",
     "output_type": "stream",
     "text": [
      "Epoch 31 val: 100% 20/20 [00:03<00:00,  6.08it/s, bce_center=0.00010, bce_mask=0.00048, dice=0.00364, dice_center=0.00985, l2_height=0.00052, l2_width=0.00052, loss=0.01510]\n",
      "Epoch 32 train:   0% 0/240 [00:00<?, ?it/s]"
     ]
    },
    {
     "name": "stdout",
     "output_type": "stream",
     "text": [
      "val_bce_mask 0.00047998409427236767\n",
      "val_dice 0.003637858887668699\n",
      "val_bce_center 9.636977174523053e-05\n",
      "val_dice_center 0.009846271271817386\n",
      "val_l2_width 0.0005217076482949779\n",
      "val_l2_height 0.0005191173520870506\n",
      "val_loss 0.015101309074088931\n",
      "Saving the best model state dict\n",
      "\n",
      "Epoch 32/49\n",
      "----------\n"
     ]
    },
    {
     "name": "stderr",
     "output_type": "stream",
     "text": [
      "Epoch 32 train: 100% 240/240 [02:10<00:00,  1.85it/s, bce_center=0.00004, bce_mask=0.00037, dice=0.00266, dice_center=0.00226, l2_height=0.00047, l2_width=0.00047, loss=0.00626]\n",
      "Epoch 32 val:   5% 1/20 [00:00<00:03,  6.13it/s, bce_center=0.00004, bce_mask=0.00044, dice=0.00327, dice_center=0.00498, l2_height=0.00050, l2_width=0.00051, loss=0.00974]"
     ]
    },
    {
     "name": "stdout",
     "output_type": "stream",
     "text": [
      "train_bce_mask 0.00036663114466743235\n",
      "train_dice 0.002660771769781907\n",
      "train_bce_center 3.63388606279121e-05\n",
      "train_dice_center 0.0022575760125619127\n",
      "train_l2_width 0.00047254582253420573\n",
      "train_l2_height 0.0004683610134331199\n",
      "train_loss 0.006262224617724617\n"
     ]
    },
    {
     "name": "stderr",
     "output_type": "stream",
     "text": [
      "Epoch 32 val: 100% 20/20 [00:03<00:00,  6.08it/s, bce_center=0.00010, bce_mask=0.00047, dice=0.00354, dice_center=0.01024, l2_height=0.00052, l2_width=0.00052, loss=0.01539]\n",
      "Epoch 33 train:   0% 0/240 [00:00<?, ?it/s]"
     ]
    },
    {
     "name": "stdout",
     "output_type": "stream",
     "text": [
      "val_bce_mask 0.0004699371955211973\n",
      "val_dice 0.003544306999538094\n",
      "val_bce_center 9.935109137586551e-05\n",
      "val_dice_center 0.010236649145372211\n",
      "val_l2_width 0.0005221464583883062\n",
      "val_l2_height 0.000521662802202627\n",
      "val_loss 0.015394053398631513\n",
      "\n",
      "Epoch 33/49\n",
      "----------\n"
     ]
    },
    {
     "name": "stderr",
     "output_type": "stream",
     "text": [
      "Epoch 33 train: 100% 240/240 [02:10<00:00,  1.84it/s, bce_center=0.00003, bce_mask=0.00036, dice=0.00262, dice_center=0.00203, l2_height=0.00046, l2_width=0.00047, loss=0.00598]\n",
      "Epoch 33 val:   5% 1/20 [00:00<00:03,  6.09it/s, bce_center=0.00008, bce_mask=0.00040, dice=0.00316, dice_center=0.00836, l2_height=0.00041, l2_width=0.00041, loss=0.01282]"
     ]
    },
    {
     "name": "stdout",
     "output_type": "stream",
     "text": [
      "train_bce_mask 0.0003581942922513311\n",
      "train_dice 0.002621288892017522\n",
      "train_bce_center 3.398101095797301e-05\n",
      "train_dice_center 0.002032323604847382\n",
      "train_l2_width 0.00046789798592120253\n",
      "train_l2_height 0.0004643977060671508\n",
      "train_loss 0.00597808349217909\n"
     ]
    },
    {
     "name": "stderr",
     "output_type": "stream",
     "text": [
      "Epoch 33 val: 100% 20/20 [00:03<00:00,  6.08it/s, bce_center=0.00010, bce_mask=0.00047, dice=0.00356, dice_center=0.00988, l2_height=0.00052, l2_width=0.00052, loss=0.01503]\n",
      "Epoch 34 train:   0% 0/240 [00:00<?, ?it/s]"
     ]
    },
    {
     "name": "stdout",
     "output_type": "stream",
     "text": [
      "val_bce_mask 0.0004682439815951511\n",
      "val_dice 0.003556422237306833\n",
      "val_bce_center 9.61998188358848e-05\n",
      "val_dice_center 0.009879800374619663\n",
      "val_l2_width 0.0005158279585884884\n",
      "val_l2_height 0.0005163244568393566\n",
      "val_loss 0.015032818727195262\n",
      "Saving the best model state dict\n",
      "\n",
      "Epoch 34/49\n",
      "----------\n"
     ]
    },
    {
     "name": "stderr",
     "output_type": "stream",
     "text": [
      "Epoch 34 train: 100% 240/240 [02:10<00:00,  1.85it/s, bce_center=0.00003, bce_mask=0.00035, dice=0.00258, dice_center=0.00187, l2_height=0.00046, l2_width=0.00046, loss=0.00576]\n",
      "Epoch 34 val:   5% 1/20 [00:00<00:03,  6.04it/s, bce_center=0.00007, bce_mask=0.00030, dice=0.00332, dice_center=0.00489, l2_height=0.00048, l2_width=0.00047, loss=0.00953]"
     ]
    },
    {
     "name": "stdout",
     "output_type": "stream",
     "text": [
      "train_bce_mask 0.00035221087770575345\n",
      "train_dice 0.0025784934929106384\n",
      "train_bce_center 3.256181033156243e-05\n",
      "train_dice_center 0.0018747127509413986\n",
      "train_l2_width 0.0004620093991737425\n",
      "train_l2_height 0.00045838148701780786\n",
      "train_loss 0.005758369814914962\n"
     ]
    },
    {
     "name": "stderr",
     "output_type": "stream",
     "text": [
      "Epoch 34 val: 100% 20/20 [00:03<00:00,  6.13it/s, bce_center=0.00010, bce_mask=0.00046, dice=0.00364, dice_center=0.01006, l2_height=0.00051, l2_width=0.00051, loss=0.01528]\n",
      "Epoch 35 train:   0% 0/240 [00:00<?, ?it/s]"
     ]
    },
    {
     "name": "stdout",
     "output_type": "stream",
     "text": [
      "val_bce_mask 0.00045947313628857955\n",
      "val_dice 0.0036370666814036666\n",
      "val_bce_center 9.788158949959324e-05\n",
      "val_dice_center 0.01005782512947917\n",
      "val_l2_width 0.000511644508515019\n",
      "val_l2_height 0.000511688893311657\n",
      "val_loss 0.015275580110028386\n",
      "\n",
      "Epoch 35/49\n",
      "----------\n"
     ]
    },
    {
     "name": "stderr",
     "output_type": "stream",
     "text": [
      "Epoch 35 train: 100% 240/240 [02:09<00:00,  1.84it/s, bce_center=0.00003, bce_mask=0.00035, dice=0.00255, dice_center=0.00178, l2_height=0.00047, l2_width=0.00047, loss=0.00564]\n",
      "Epoch 35 val:   5% 1/20 [00:00<00:03,  6.13it/s, bce_center=0.00013, bce_mask=0.00056, dice=0.00411, dice_center=0.01287, l2_height=0.00058, l2_width=0.00057, loss=0.01882]"
     ]
    },
    {
     "name": "stdout",
     "output_type": "stream",
     "text": [
      "train_bce_mask 0.00034712091292021796\n",
      "train_dice 0.00255179422092624\n",
      "train_bce_center 3.152495687407016e-05\n",
      "train_dice_center 0.001779569779561522\n",
      "train_l2_width 0.00046847380229640597\n",
      "train_l2_height 0.0004650899059924996\n",
      "train_loss 0.005643573590593102\n"
     ]
    },
    {
     "name": "stderr",
     "output_type": "stream",
     "text": [
      "Epoch 35 val: 100% 20/20 [00:03<00:00,  6.07it/s, bce_center=0.00010, bce_mask=0.00046, dice=0.00354, dice_center=0.01032, l2_height=0.00052, l2_width=0.00052, loss=0.01546]\n",
      "Epoch 36 train:   0% 0/240 [00:00<?, ?it/s]"
     ]
    },
    {
     "name": "stdout",
     "output_type": "stream",
     "text": [
      "val_bce_mask 0.0004604927875334397\n",
      "val_dice 0.003541999659501016\n",
      "val_bce_center 9.982268766179913e-05\n",
      "val_dice_center 0.01032025613822043\n",
      "val_l2_width 0.0005206749992794357\n",
      "val_l2_height 0.0005198580925934948\n",
      "val_loss 0.015463104378432036\n",
      "Epoch    35: reducing learning rate of group 0 to 1.0000e-06.\n",
      "\n",
      "Epoch 36/49\n",
      "----------\n"
     ]
    },
    {
     "name": "stderr",
     "output_type": "stream",
     "text": [
      "Epoch 36 train: 100% 240/240 [02:10<00:00,  1.84it/s, bce_center=0.00003, bce_mask=0.00034, dice=0.00252, dice_center=0.00165, l2_height=0.00044, l2_width=0.00045, loss=0.00543]\n",
      "Epoch 36 val:   5% 1/20 [00:00<00:03,  6.10it/s, bce_center=0.00010, bce_mask=0.00038, dice=0.00324, dice_center=0.01163, l2_height=0.00052, l2_width=0.00050, loss=0.01636]"
     ]
    },
    {
     "name": "stdout",
     "output_type": "stream",
     "text": [
      "train_bce_mask 0.0003422287690834006\n",
      "train_dice 0.002515233352217668\n",
      "train_bce_center 3.0105605605494173e-05\n",
      "train_dice_center 0.0016498990217466295\n",
      "train_l2_width 0.00044688485031656454\n",
      "train_l2_height 0.0004438709350021478\n",
      "train_loss 0.005428222541619713\n"
     ]
    },
    {
     "name": "stderr",
     "output_type": "stream",
     "text": [
      "Epoch 36 val: 100% 20/20 [00:03<00:00,  6.03it/s, bce_center=0.00010, bce_mask=0.00046, dice=0.00355, dice_center=0.01003, l2_height=0.00051, l2_width=0.00051, loss=0.01515]\n",
      "Epoch 37 train:   0% 0/240 [00:00<?, ?it/s]"
     ]
    },
    {
     "name": "stdout",
     "output_type": "stream",
     "text": [
      "val_bce_mask 0.0004582802823279053\n",
      "val_dice 0.0035517382086254655\n",
      "val_bce_center 9.732851194712566e-05\n",
      "val_dice_center 0.010027452372014523\n",
      "val_l2_width 0.0005089129495900125\n",
      "val_l2_height 0.0005072629995993338\n",
      "val_loss 0.015150975342839957\n",
      "\n",
      "Epoch 37/49\n",
      "----------\n"
     ]
    },
    {
     "name": "stderr",
     "output_type": "stream",
     "text": [
      "Epoch 37 train: 100% 240/240 [02:09<00:00,  1.85it/s, bce_center=0.00003, bce_mask=0.00034, dice=0.00250, dice_center=0.00162, l2_height=0.00044, l2_width=0.00044, loss=0.00537]\n",
      "Epoch 37 val:   5% 1/20 [00:00<00:03,  6.06it/s, bce_center=0.00010, bce_mask=0.00045, dice=0.00318, dice_center=0.00830, l2_height=0.00045, l2_width=0.00045, loss=0.01293]"
     ]
    },
    {
     "name": "stdout",
     "output_type": "stream",
     "text": [
      "train_bce_mask 0.00034100140910595653\n",
      "train_dice 0.0025044653031121317\n",
      "train_bce_center 2.9718833496161778e-05\n",
      "train_dice_center 0.001618473624815427\n",
      "train_l2_width 0.00044084419848028724\n",
      "train_l2_height 0.0004373255788474732\n",
      "train_loss 0.005371828937980657\n"
     ]
    },
    {
     "name": "stderr",
     "output_type": "stream",
     "text": [
      "Epoch 37 val: 100% 20/20 [00:03<00:00,  6.25it/s, bce_center=0.00010, bce_mask=0.00046, dice=0.00353, dice_center=0.01005, l2_height=0.00051, l2_width=0.00051, loss=0.01516]\n",
      "Epoch 38 train:   0% 0/240 [00:00<?, ?it/s]"
     ]
    },
    {
     "name": "stdout",
     "output_type": "stream",
     "text": [
      "val_bce_mask 0.0004583012181683443\n",
      "val_dice 0.003533457999583334\n",
      "val_bce_center 9.753400590852834e-05\n",
      "val_dice_center 0.010053477552719414\n",
      "val_l2_width 0.0005109001940581948\n",
      "val_l2_height 0.000509779341518879\n",
      "val_loss 0.015163450222462415\n",
      "Epoch    37: reducing learning rate of group 0 to 1.0000e-07.\n",
      "\n",
      "Epoch 38/49\n",
      "----------\n"
     ]
    },
    {
     "name": "stderr",
     "output_type": "stream",
     "text": [
      "Epoch 38 train: 100% 240/240 [02:10<00:00,  1.83it/s, bce_center=0.00003, bce_mask=0.00034, dice=0.00250, dice_center=0.00161, l2_height=0.00044, l2_width=0.00044, loss=0.00536]\n",
      "Epoch 38 val:   5% 1/20 [00:00<00:03,  5.98it/s, bce_center=0.00013, bce_mask=0.00041, dice=0.00348, dice_center=0.01392, l2_height=0.00042, l2_width=0.00041, loss=0.01877]"
     ]
    },
    {
     "name": "stdout",
     "output_type": "stream",
     "text": [
      "train_bce_mask 0.0003397767010331639\n",
      "train_dice 0.0025008125662376794\n",
      "train_bce_center 2.992138819829885e-05\n",
      "train_dice_center 0.0016071485870876737\n",
      "train_l2_width 0.0004431428335616753\n",
      "train_l2_height 0.0004399947347944059\n",
      "train_loss 0.005360796833216833\n"
     ]
    },
    {
     "name": "stderr",
     "output_type": "stream",
     "text": [
      "Epoch 38 val: 100% 20/20 [00:03<00:00,  5.96it/s, bce_center=0.00010, bce_mask=0.00046, dice=0.00357, dice_center=0.01011, l2_height=0.00051, l2_width=0.00051, loss=0.01525]"
     ]
    },
    {
     "name": "stdout",
     "output_type": "stream",
     "text": [
      "val_bce_mask 0.000456895274692215\n",
      "val_dice 0.003567229420877993\n",
      "val_bce_center 9.810408100747736e-05\n",
      "val_dice_center 0.010107949189841748\n",
      "val_l2_width 0.0005089401762234047\n",
      "val_l2_height 0.0005076606044895016\n",
      "val_loss 0.015246778493747115\n",
      "** Early stop in training: 5 waits **\n",
      "\n",
      "Training complete in 86m 48s\n"
     ]
    },
    {
     "name": "stderr",
     "output_type": "stream",
     "text": [
      "\n"
     ]
    }
   ],
   "source": [
    "from tqdm import tqdm\n",
    "import time\n",
    "import copy\n",
    "import numpy as np\n",
    "import torch\n",
    "from metrics import MetricsCollection\n",
    "\n",
    "def train_model(model, optimizer, lr_scheduler, loaders, device, max_epochs=50):\n",
    "    since = time.time()\n",
    "\n",
    "    best_model_wts = copy.deepcopy(model.state_dict())\n",
    "    has_waited = 0\n",
    "    stop_training = False\n",
    "    earlystop_patience = 5\n",
    "\n",
    "    epoch_metrics = MetricsCollection()\n",
    "\n",
    "    for epoch in range(max_epochs):\n",
    "        print('Epoch {}/{}'.format(epoch, max_epochs - 1))\n",
    "        print('-' * 10)\n",
    "\n",
    "        # Each epoch has a training and validation phase\n",
    "        for phase in ['train', 'val']:\n",
    "            if phase == 'train':\n",
    "                model.train()  # Set model to training mode\n",
    "            else:\n",
    "                model.eval()   # Set model to evaluate mode\n",
    "\n",
    "            batch_metrics = MetricsCollection()\n",
    "\n",
    "            loader = loaders[phase]\n",
    "\n",
    "            pbar = tqdm(loader, total=len(loader), desc=\"Epoch {} {}\".format(epoch, phase), ncols=0)\n",
    "            for i, (inputs, class_masks, center_masks, width_masks, height_masks) in enumerate(pbar):\n",
    "                inputs = inputs.to(device)\n",
    "                class_masks = class_masks.to(device)\n",
    "                center_masks = center_masks.to(device)\n",
    "                width_masks = width_masks.to(device)\n",
    "                height_masks = height_masks.to(device)\n",
    "\n",
    "                optimizer.zero_grad()\n",
    "\n",
    "                # compute output\n",
    "                with torch.set_grad_enabled(phase == 'train'):\n",
    "                    outputs, losses  = model(inputs, class_masks, center_masks, width_masks, height_masks)\n",
    "\n",
    "                if phase == 'train':\n",
    "                    loss = losses['loss']\n",
    "                    loss.backward()\n",
    "                    optimizer.step()\n",
    "\n",
    "                for k, v in losses.items():\n",
    "                    batch_metrics.add(phase, k, v.item())\n",
    "\n",
    "                pbar.set_postfix(**{k: \"{:.5f}\".format(meter.avg) for k, meter in batch_metrics[phase].items()})\n",
    "\n",
    "            for key, meter in batch_metrics[phase].items():\n",
    "                epoch_metrics.add(phase, key, meter.avg)\n",
    "\n",
    "                print('{}_{}'.format(phase, key), meter.avg)\n",
    "\n",
    "            if phase == 'val':\n",
    "                # monitor the val metrics\n",
    "                best_epoch_index = epoch_metrics['val']['loss'].best()[1]\n",
    "                if best_epoch_index == epoch:\n",
    "                    has_waited = 1\n",
    "                    best_model_wts = copy.deepcopy(model.state_dict())\n",
    "                    print(\"Saving the best model state dict\")\n",
    "                else:\n",
    "                    if has_waited >= earlystop_patience:\n",
    "                        print(\"** Early stop in training: {} waits **\".format(has_waited))\n",
    "                        stop_training = True\n",
    "\n",
    "                    has_waited += 1\n",
    "\n",
    "                if type(lr_scheduler) is torch.optim.lr_scheduler.ReduceLROnPlateau:\n",
    "                    lr_scheduler.step(epoch_metrics['val']['loss'].value)\n",
    "                else:\n",
    "                    lr_scheduler.step()\n",
    "\n",
    "        print()  # end of epoch\n",
    "        if stop_training:\n",
    "            break\n",
    "\n",
    "    time_elapsed = time.time() - since\n",
    "    print('Training complete in {:.0f}m {:.0f}s'.format(time_elapsed // 60, time_elapsed % 60))\n",
    "\n",
    "    # load best model weights\n",
    "    model.load_state_dict(best_model_wts)\n",
    "\n",
    "    return model\n",
    "\n",
    "import models\n",
    "\n",
    "device = torch.device(\"cuda:0\" if torch.cuda.is_available() else \"cpu\")\n",
    "\n",
    "num_class = 6\n",
    "lr_factor = 0.1\n",
    "lr_patience = 1\n",
    "lr = 1e-4\n",
    "\n",
    "# model = models.InstanceUNet(num_class).to(device)\n",
    "# model = models.ObjectDetectUNet(num_class).to(device)\n",
    "model = models.WidthHeightUNet(num_class).to(device)\n",
    "\n",
    "\n",
    "\n",
    "optimizer = torch.optim.Adam(model.parameters(), lr=lr)\n",
    "lr_scheduler = torch.optim.lr_scheduler.ReduceLROnPlateau(optimizer,\n",
    "                                                          factor=lr_factor,\n",
    "                                                          patience=lr_patience,\n",
    "                                                          verbose=True)\n",
    "        \n",
    "model = train_model(model, optimizer, lr_scheduler, dataloaders, device)\n",
    "torch.save(model, './models/model_last.pth')"
   ]
  },
  {
   "cell_type": "code",
   "execution_count": 2,
   "metadata": {},
   "outputs": [],
   "source": [
    "# torch.save(model, './models/model_last.pth')\n",
    "import torch\n",
    "model = torch.load('./models/model_last.pth')\n",
    "# type(model2)"
   ]
  },
  {
   "cell_type": "code",
   "execution_count": null,
   "metadata": {
    "scrolled": true
   },
   "outputs": [],
   "source": [
    "# import torch\n",
    "# import torch.optim as optim\n",
    "# from torch.optim import lr_scheduler\n",
    "# import time\n",
    "# import copy\n",
    "\n",
    "# device = torch.device(\"cuda:0\" if torch.cuda.is_available() else \"cpu\")\n",
    "# print(device)\n",
    "\n",
    "# num_class = 6\n",
    "\n",
    "# model = models.ObjectDetectUNet(num_class).to(device)\n",
    "\n",
    "# # Observe that all parameters are being optimized\n",
    "# optimizer_ft = optim.Adam(model.parameters(), lr=1e-4)\n",
    "\n",
    "# exp_lr_scheduler = lr_scheduler.StepLR(optimizer_ft, step_size=25, gamma=0.1)\n",
    "\n",
    "# model = train_model(model, optimizer_ft, exp_lr_scheduler, num_epochs=40)"
   ]
  },
  {
   "cell_type": "code",
   "execution_count": null,
   "metadata": {},
   "outputs": [],
   "source": [
    "model"
   ]
  },
  {
   "cell_type": "code",
   "execution_count": 185,
   "metadata": {},
   "outputs": [
    {
     "name": "stdout",
     "output_type": "stream",
     "text": [
      "torch.Size([25, 3, 192, 192]) torch.Size([25, 6, 192, 192])\n",
      "0.0 1.0 0.08988715 0.28601995\n",
      "0 1 0.015017180266203703 0.1216209873461648\n"
     ]
    },
    {
     "data": {
      "text/plain": [
       "<matplotlib.image.AxesImage at 0x7fa46c0a5908>"
      ]
     },
     "execution_count": 185,
     "metadata": {},
     "output_type": "execute_result"
    },
    {
     "data": {
      "image/png": "[encoded data removed]",
      "text/plain": [
       "<Figure size 432x288 with 1 Axes>"
      ]
     },
     "metadata": {
      "needs_background": "light"
     },
     "output_type": "display_data"
    }
   ],
   "source": [
    "import torchvision.utils\n",
    "\n",
    "def reverse_transform(inp):\n",
    "    inp = inp.numpy().transpose((1, 2, 0))\n",
    "    inp = np.clip(inp, 0, 1)\n",
    "    inp = (inp * 255).astype(np.uint8)\n",
    "    \n",
    "    return inp\n",
    "\n",
    "# Get a batch of training data\n",
    "inputs, masks, _, _, _ = next(iter(dataloaders['train']))\n",
    "\n",
    "print(inputs.shape, masks.shape)\n",
    "for x in [inputs.numpy(), masks.numpy()]:\n",
    "    print(x.min(), x.max(), x.mean(), x.std())\n",
    "\n",
    "plt.imshow(reverse_transform(inputs[3]))"
   ]
  },
  {
   "cell_type": "code",
   "execution_count": 208,
   "metadata": {},
   "outputs": [
    {
     "name": "stdout",
     "output_type": "stream",
     "text": [
      "2\n",
      "0 2\n",
      "2\n",
      "0 2\n",
      "0\n",
      "0 0\n",
      "2\n",
      "0 2\n",
      "3\n",
      "0 3\n",
      "1\n",
      "0 1\n"
     ]
    },
    {
     "data": {
      "image/png": "[encoded data removed]",
      "text/plain": [
       "<Figure size 2016x288 with 7 Axes>"
      ]
     },
     "metadata": {
      "needs_background": "light"
     },
     "output_type": "display_data"
    },
    {
     "data": {
      "image/png": "[encoded data removed]",
      "text/plain": [
       "<Figure size 2880x2880 with 30 Axes>"
      ]
     },
     "metadata": {
      "needs_background": "light"
     },
     "output_type": "display_data"
    }
   ],
   "source": [
    "# prediction\n",
    "\n",
    "import math\n",
    "\n",
    "device = torch.device(\"cuda:0\" if torch.cuda.is_available() else \"cpu\")\n",
    "\n",
    "num_class = 2\n",
    "\n",
    "\n",
    "model.eval()   # Set model to evaluate mode\n",
    "\n",
    "test_dataset = SimDataset(1, n_class, transform = trans)\n",
    "test_loader = DataLoader(test_dataset, batch_size=1, shuffle=False, num_workers=0)\n",
    "        \n",
    "inputs, labels_mask, labels_center, labels_width, labels_height  = next(iter(test_loader))\n",
    "inputs = inputs.to(device)\n",
    "# labels_mask = labels_mask.to(device)\n",
    "# labels_center = labels_center.to(device)\n",
    "\n",
    "pred = model(inputs)\n",
    "pred = pred[0]\n",
    "\n",
    "\n",
    "# Change channel-order and make 3 channels for matplot\n",
    "input_images_rgb = [reverse_transform(x) for x in inputs.cpu()]\n",
    "\n",
    "\n",
    "# Map each channel (i.e. class) to each color\n",
    "target_masks_rgb = [helper.masks_to_colorimg(x, n_class) for x in labels_mask]\n",
    "\n",
    "# Map each channel (i.e. class) to each color\n",
    "target_centers_rgb = [helper.masks_to_colorimg(x, n_class) for x in labels_center]\n",
    "\n",
    "for i in [pred]:\n",
    "    pred_masks = i['class_masks'].data.cpu().numpy()\n",
    "    pred_centers = i['center_masks'].data.cpu().numpy()\n",
    "    pred_widths = i['width_masks'].data.cpu().numpy()\n",
    "    pred_heights = i['height_masks'].data.cpu().numpy()\n",
    "\n",
    "    mask = pred_centers.copy() \n",
    "    mask[mask<0]=0\n",
    "    mask[mask>0]=1\n",
    "\n",
    "    \n",
    "    pred_masks_rgb = [helper.masks_to_colorimg(x, n_class) for x in pred_masks]\n",
    "    pred_centers_rgb = [helper.masks_to_colorimg(x, n_class) for x in mask] # pred_centers\n",
    "    pred_widths_rgb = [helper.masks_to_colorimg(x, n_class) for x in pred_widths * mask]\n",
    "    pred_heights_rgb = [helper.masks_to_colorimg(x, n_class) for x in pred_heights * mask]\n",
    "    \n",
    "\n",
    "    \n",
    "# Left: Input image, Right: Target mask (Ground-truth)\n",
    "helper.plot_side_by_side([input_images_rgb, target_masks_rgb, target_centers_rgb, pred_masks_rgb, pred_centers_rgb, pred_widths_rgb, pred_heights_rgb])\n",
    "\n",
    "\n",
    "# -------\n",
    "\n",
    "inp = np.copy(inputs.cpu())\n",
    "img = np.copy(inp[0])\n",
    "# img = img.reshape((192,192,3))\n",
    "img = np.transpose(img,[1,2,0])\n",
    "# img = img(:,:,[0])\n",
    "\n",
    "\n",
    "from matplotlib import pyplot as plt\n",
    "import matplotlib.patches as patches\n",
    "from scipy.ndimage.measurements import label  \n",
    "\n",
    "\n",
    "f, plots = plt.subplots(n_class, 5, sharex='all', sharey='all', figsize=(4 * 10, 4 * 10))\n",
    "\n",
    "\n",
    "for i in range(n_class):\n",
    "    a2 = np.copy(pred_centers[0,i,:,:])\n",
    "    a2[a2<0]=0\n",
    "    a2[a2>0]=1\n",
    "    plots[i,0].imshow(a2)\n",
    "\n",
    "    a4 = np.copy(pred_widths[0,i,:,:])     \n",
    "    a4 = a4*a2 #.numpy()\n",
    "    plots[i,1].imshow(a4)\n",
    "\n",
    "    \n",
    "    \n",
    "    # finding connected components\n",
    "    from scipy.ndimage.measurements import label  \n",
    "    structure = np.ones((3, 3), dtype=np.int)\n",
    "    labeled, ncomponents = label(a4, structure)\n",
    "    indices = np.indices(a4.shape).T[:,:,[1, 0]]\n",
    "    \n",
    "    ax = plots[i,2] #plt.subplots(1)\n",
    "    ax.imshow(img)\n",
    "    coords = []\n",
    "    for c in range(ncomponents):\n",
    "        a = indices[labeled == c+1]\n",
    "        x, y = (np.min(a[:,0]) + np.max(a[:,0]))//2, (np.min(a[:,1]) + np.max(a[:,1]))//2\n",
    "        w, h = int(a4[x,y])+1, int(a4[x,y])+1\n",
    "        coords.append( (x, y , w, h) )    \n",
    "        rect = patches.Rectangle((y-w//2, x-h//2), w, h, linewidth=1,edgecolor='r',facecolor='none')\n",
    "        ax.add_patch(rect)\n",
    "\n",
    "        \n",
    "    print(len(coords))\n",
    "        \n",
    "    semantic_mask = np.zeros(pred_masks.shape[2:])\n",
    "    pred_masks_class = pred_masks[0,i,...]\n",
    "    pred_masks_class[pred_masks_class<0] = 0\n",
    "    pred_masks_class[pred_masks_class>0] = 1\n",
    "    \n",
    "    for box in coords:\n",
    "        x, y, w, h = box\n",
    "        w , h = w//2+1, h//2+1\n",
    "        semantic_mask[x-w:x+w, y-h:y+h]  = 1\n",
    "    plots[i,3].imshow(pred_masks_class * semantic_mask)\n",
    "    \n",
    "    \n",
    "    instance_mask = np.zeros(pred_masks.shape[2:])\n",
    "    pred_masks_class = pred_masks[0,i,...]\n",
    "    pred_masks_class[pred_masks_class<0] = 0\n",
    "    pred_masks_class[pred_masks_class>0] = 1\n",
    "    xx = np.zeros(pred_masks.shape[2:], dtype=np.int)\n",
    "    cc = 1\n",
    "    for box in coords:\n",
    "        x, y, w, h = box\n",
    "        w , h = w//2+1, h//2+1\n",
    "        instance_mask = np.zeros(pred_masks.shape[2:])\n",
    "        instance_mask[x-w:x+w, y-h:y+h]  = 1\n",
    "        mm = np.zeros(pred_masks.shape[2:], dtype=np.int)\n",
    "        mm = pred_masks_class.astype(int) * instance_mask.astype(int) \n",
    "        mm = mm * cc\n",
    "        xx = xx + mm\n",
    "        xx[xx>cc] = cc\n",
    "        cc += 1\n",
    "    \n",
    "#     xx = np.reshape(xx, [1,xx.shape[0], xx.shape[1]])\n",
    "#     xx = xx[0,0,:,:]\n",
    "    xx = xx.astype(int)\n",
    "    print(np.min(xx), np.max(xx))\n",
    "    plots[i,4].imshow(helper.masks_to_colorimg3(xx))"
   ]
  },
  {
   "cell_type": "code",
   "execution_count": 161,
   "metadata": {},
   "outputs": [
    {
     "data": {
      "text/plain": [
       "9"
      ]
     },
     "execution_count": 161,
     "metadata": {},
     "output_type": "execute_result"
    }
   ],
   "source": [
    "# pred_heights\n",
    "# pred_masks\n",
    "# pred_widths[0,0,:,:]\n",
    "# torch.max(labels_center)\n",
    "# type(pred_widths)\n",
    "# pred_widths = pred_widths * labels_center.numpy()\n",
    "# np.max(pred_widths)\n",
    "# a = pred_centers \n",
    "# a[a<0]=0\n",
    "# a[a>0]=1\n",
    "# pred_masks[0].shape\n",
    "# np.max(pred_centers[0])\n",
    "# np.sum(mask)\n",
    "# pred_masks.shape\n",
    "# a2\n",
    "# helper.plot_side_by_side([np.tile(a2,[3,1,1]), np.tile(a4,[3,1,1])])          \n",
    "# np.transpose(np.tile(a2,[3,1,1]), [1,2,0]).shape\n",
    "# a2.shape\n",
    "# helper.plot_side_by_side([np.transpose(np.tile(a2,[3,1,1]),[1,2,0]), np.transpose(np.tile(a2,[3,1,1]),[1,2,0])])          \n",
    "# for x in pred_masks:\n",
    "#     print(x.shape)\n",
    "# xx = pred_masks[0,i,...] * instance_mask\n",
    "# xx = np.reshape(xx, [1,xx.shape[0], xx.shape[1]])\n",
    "# xx.shape\n",
    "\n",
    "np.min(xx)\n",
    "xx.shape\n",
    "np.max(pred_masks)\n",
    "pred_masks.shape\n",
    "# pred_masks.astype(int)\n",
    "\n",
    "\n",
    "xx\n",
    "pred_masks_class\n",
    "instance_mask\n",
    "pred_masks_class.astype(int) * instance_mask.astype(int)\n",
    "cc\n",
    "np.max(mm)\n",
    "\n",
    "np.max(xx)"
   ]
  },
  {
   "cell_type": "code",
   "execution_count": null,
   "metadata": {},
   "outputs": [],
   "source": [
    "# # np.where(aa==1)\n",
    "# a = pred_centers[0,5,:,:]     \n",
    "# a[a<0] = 0\n",
    "# a[a>0] = 1\n",
    "# np.where(a==1)\n",
    "np.max(a2)\n",
    "# print(np.sum(a2[a2>0]) )\n",
    "# np.where(a2==np.max(a2))\n",
    "# mask = np.zeros(a2.shape)\n",
    "# mask.shape\n",
    "# mask[np.where(a2==np.max(a2))] = 1\n",
    "# a2 = a2 * mask\n",
    "\n",
    "# x, y = np.where(a2==np.max(a2))\n",
    "# print(x,y)\n",
    "a2.shape"
   ]
  },
  {
   "cell_type": "code",
   "execution_count": 83,
   "metadata": {},
   "outputs": [],
   "source": [
    "# cv2.waitKey(0)\n",
    "# cv2.destroyAllWindows()\n",
    "\n",
    "# inp = np.copy(inputs.cpu())\n",
    "# img = np.copy(inp[0])\n",
    "# # img = img.reshape((192,192,3))\n",
    "# img = np.transpose(img,[1,2,0])\n",
    "# # img = img(:,:,[0])"
   ]
  },
  {
   "cell_type": "code",
   "execution_count": 45,
   "metadata": {},
   "outputs": [
    {
     "data": {
      "text/plain": [
       "4"
      ]
     },
     "execution_count": 45,
     "metadata": {},
     "output_type": "execute_result"
    }
   ],
   "source": [
    "# img.shape\n",
    "# a2.shape\n",
    "# f, plots = plt.subplots(n_class, 3, sharex='all', sharey='all', figsize=(4 * 4, 1 * 4))\n",
    "# fig, ax = plots[3]\n",
    "# x = plots[3]\n",
    "ii"
   ]
  },
  {
   "cell_type": "code",
   "execution_count": 54,
   "metadata": {},
   "outputs": [
    {
     "data": {
      "image/png": "[encoded data removed]",
      "text/plain": [
       "<Figure size 1152x288 with 8 Axes>"
      ]
     },
     "metadata": {
      "needs_background": "light"
     },
     "output_type": "display_data"
    }
   ],
   "source": [
    "from matplotlib import pyplot as plt\n",
    "import matplotlib.patches as patches\n",
    "\n",
    "\n",
    "f, plots = plt.subplots(n_class, 4, sharex='all', sharey='all', figsize=(4 * 4, 1 * 4))\n",
    "\n",
    "\n",
    "for i in range(n_class):\n",
    "\n",
    "#     a1 = np.copy(labels_center[0,i,:,:])\n",
    "# #     a1 = a1.numpy()\n",
    "    \n",
    "#     plt.figure()\n",
    "#     plt.imshow(a1)\n",
    "#     plt.show()\n",
    "    \n",
    "    \n",
    "    \n",
    "    \n",
    "    a2 = np.copy(pred_centers[0,i,:,:])\n",
    "    a2[a2<0]=0\n",
    "    a2[a2>0]=1\n",
    "#     mask = np.zeros(a2.shape)\n",
    "# #     mask.shape\n",
    "#     mask[np.where(a2==np.max(a2))] = 1\n",
    "#     a2 = a2 * mask \n",
    "#     a2 = a2 * -1\n",
    "\n",
    "\n",
    "\n",
    "\n",
    "#     print(np.where(a2==np.max(a2)))\n",
    "#     plt.figure()\n",
    "#     plt.imshow(a2)\n",
    "#     plt.show()\n",
    "    plots[i,0].imshow(a2)\n",
    "\n",
    "    \n",
    "    \n",
    "#     a3 = np.copy(labels_width[0,i,:,:])\n",
    "# #     a3 = a3.numpy()\n",
    "# #     print(np.sum(a3[a3>0]))\n",
    "#     print(np.where(a3==np.max(a3)))\n",
    "#     plt.figure()\n",
    "#     plt.imshow(a3)\n",
    "#     plt.show()\n",
    "    \n",
    "    \n",
    "    a4 = np.copy(pred_widths[0,i,:,:])     \n",
    "    a4 = a4*a2 #.numpy()\n",
    "#     print(np.sum(a4[a4>0]))\n",
    "#     b[b<0] = 0\n",
    "#     b[b>0] = 1\n",
    "#     print(b.shape)\n",
    "#     print(np.where(a4==np.max(a4)))\n",
    "#     plt.figure()\n",
    "#     plt.imshow(a4)\n",
    "#     plt.show()\n",
    "    plots[i,1].imshow(a4)\n",
    "\n",
    "    \n",
    "    \n",
    "    # finding connected components\n",
    "    from scipy.ndimage.measurements import label  \n",
    "    structure = np.ones((3, 3), dtype=np.int)\n",
    "    labeled, ncomponents = label(a4, structure)\n",
    "    indices = np.indices(a4.shape).T[:,:,[1, 0]]\n",
    "    \n",
    "#     res  = []\n",
    "    ax = plots[i,2] #plt.subplots(1)\n",
    "    ax.imshow(img)\n",
    "    coords = []\n",
    "    for c in range(ncomponents):\n",
    "        a = indices[labeled == c+1]\n",
    "#         res.append((np.min(a[:,0]), np.min(a[:,1]), np.max(a[:,0]), np.max(a[:,1])))\n",
    "        x, y = (np.min(a[:,0]) + np.max(a[:,0]))//2, (np.min(a[:,1]) + np.max(a[:,1]))//2\n",
    "        w, h = int(a4[x,y]), int(a4[x,y])\n",
    "        coords.append( (x, y , w, h) )    \n",
    "#         img = cv2.rectangle(img,(x,y),(x+int(a4[x,y]),y+int(a4[x,y])),(0,255,0),3)  \n",
    "        # Create figure and axes\n",
    "        # Display the image\n",
    "        # Create a Rectangle patch\n",
    "        rect = patches.Rectangle((y-w//2, x-h//2), w, h, linewidth=1,edgecolor='r',facecolor='none')\n",
    "        # Add the patch to the Axes\n",
    "        ax.add_patch(rect)\n",
    "\n",
    "#     plt.show()  \n",
    "#     plots[i,2].show()\n",
    "\n",
    "#     print(coords)\n",
    "    \n",
    "#     cv2.imshow('test', img)\n",
    "#     cv2.waitKey(0)\n",
    "#     cv2.destroyAllWindows()\n",
    "    \n",
    "    \n",
    "    instance_mask = np.zeros(pred_masks.shape[2:])\n",
    "    for box in coords:\n",
    "        x, y, w, h = box\n",
    "        w , h = w//2, h//2\n",
    "        instance_mask[x-w:x+w, y-h:y+h]  = 1\n",
    "    \n",
    "    plots[i,3].imshow(pred_masks[0,i,...] * instance_mask)\n",
    "    \n",
    "    \n",
    "    \n",
    "    \n",
    "    \n",
    "    \n",
    "#     img = np.zeros(a2.shape)\n",
    "#     x, y = np.where(mask==1)\n",
    "#     print(x,y)\n",
    "#     for i,j in zip(x,y):\n",
    "#         w = 5 #int(a4[i,j]//2)\n",
    "#         h = 5 #int(a4[i,j]//2)  # update\n",
    "#         img[i-w, j-h:j+h] = 1\n",
    "#         img[i+w, j-h:j+h] = 1\n",
    "#         img[i-w:i+w, j-h] = 1\n",
    "#         img[i-w:i+w, j+h] = 1\n",
    "# #         img[0,i-w, j-h:j+h] = 255\n",
    "# #         img[i-w:j-h, i-w:j+h, i-w:j-h, i-w:j+h, i-w:j-h, i-w:j+h ] = 1        \n",
    "    \n",
    "    \n",
    "\n",
    "    \n",
    "    \n",
    "    \n",
    "    \n",
    "    \n",
    "#     print('-------------------------------------')\n",
    "    \n",
    "    \n",
    "    \n",
    "    \n",
    "# a[a>0]\n",
    "# torch.argmax(a)\n",
    "\n",
    "\n",
    "\n",
    "# torch.sum(labels_center[0,1,:,:])"
   ]
  },
  {
   "cell_type": "code",
   "execution_count": 51,
   "metadata": {},
   "outputs": [
    {
     "data": {
      "text/plain": [
       "(2, 192, 192)"
      ]
     },
     "execution_count": 51,
     "metadata": {},
     "output_type": "execute_result"
    }
   ],
   "source": [
    "(pred_masks[0,...] * instance_mask).shape"
   ]
  },
  {
   "cell_type": "code",
   "execution_count": 41,
   "metadata": {},
   "outputs": [
    {
     "data": {
      "text/plain": [
       "(192, 192)"
      ]
     },
     "execution_count": 41,
     "metadata": {},
     "output_type": "execute_result"
    }
   ],
   "source": [
    "# coords\n",
    "# img = cv2.rectangle(img,(x,y),(x+int(a4[x,y]),y+int(a4[x,y])),(0,255,0),3)  \n",
    "# np.array(img)\n",
    "# img\n",
    "# pred_centers[0,i,:,:]\n",
    "pred_masks.shape[2:]"
   ]
  },
  {
   "cell_type": "code",
   "execution_count": null,
   "metadata": {},
   "outputs": [],
   "source": [
    "img = np.copy(inputs[0])\n",
    "# import cv2\n",
    "\n",
    "img2 = img.reshape((192,192,3))\n",
    "cv2.imshow('test', img)\n",
    "cv2.waitKey()"
   ]
  },
  {
   "cell_type": "code",
   "execution_count": 344,
   "metadata": {},
   "outputs": [],
   "source": [
    "from scipy.ndimage.measurements import label  \n",
    "    structure = np.ones((3, 3), dtype=np.int)\n",
    "    labeled, ncomponents = label(a4, structure)\n",
    "    indices = np.indices(a4.shape).T[:,:,[1, 0]]\n",
    "    \n",
    "    res  = []\n",
    "    coords = []\n",
    "    for i in range(ncomponents):\n",
    "        a = indices[labeled == i+1]\n",
    "        res.append((np.min(a[:,0]), np.min(a[:,1]), np.max(a[:,0]), np.max(a[:,1])))\n",
    "        x , y = (np.min(a[:,0]) + np.max(a[:,0]))//2, (np.min(a[:,1]) + np.max(a[:,1]))//2\n",
    "        coords.append( (x, y , a4[x,y], a4[x,y]) )"
   ]
  },
  {
   "cell_type": "code",
   "execution_count": 341,
   "metadata": {},
   "outputs": [
    {
     "data": {
      "text/plain": [
       "[(17, 160, 20, 163), (33, 75, 37, 79), (108, 97, 110, 99)]"
      ]
     },
     "execution_count": 341,
     "metadata": {},
     "output_type": "execute_result"
    }
   ],
   "source": [
    "res"
   ]
  },
  {
   "cell_type": "code",
   "execution_count": 345,
   "metadata": {},
   "outputs": [
    {
     "data": {
      "text/plain": [
       "[(17, 160, 20, 163), (33, 75, 37, 79), (108, 97, 110, 99)]"
      ]
     },
     "execution_count": 345,
     "metadata": {},
     "output_type": "execute_result"
    }
   ],
   "source": [
    "res"
   ]
  },
  {
   "cell_type": "code",
   "execution_count": 346,
   "metadata": {},
   "outputs": [
    {
     "data": {
      "text/plain": [
       "[(18, 161, 17.918903, 17.918903),\n",
       " (35, 77, 20.881758, 20.881758),\n",
       " (109, 98, 16.621855, 16.621855)]"
      ]
     },
     "execution_count": 346,
     "metadata": {},
     "output_type": "execute_result"
    }
   ],
   "source": [
    "coords"
   ]
  },
  {
   "cell_type": "code",
   "execution_count": 71,
   "metadata": {},
   "outputs": [
    {
     "name": "stdout",
     "output_type": "stream",
     "text": [
      "[[0. 1. 0. ... 1. 1. 0.]\n",
      " [1. 1. 1. ... 0. 1. 0.]\n",
      " [1. 1. 0. ... 0. 0. 0.]\n",
      " ...\n",
      " [1. 1. 1. ... 0. 0. 1.]\n",
      " [1. 1. 1. ... 0. 0. 1.]\n",
      " [0. 1. 1. ... 1. 1. 1.]]\n"
     ]
    },
    {
     "data": {
      "text/plain": [
       "35580.0"
      ]
     },
     "execution_count": 71,
     "metadata": {},
     "output_type": "execute_result"
    }
   ],
   "source": [
    "b = pred_widths[0,1,:,:]\n",
    "print(b)\n",
    "# b = pred_centers[0,1,:,:]\n",
    "# # b[b<0] = 0\n",
    "# b[b<0] = 0\n",
    "# b[b>0] = 1\n",
    "sum(sum(b))"
   ]
  },
  {
   "cell_type": "code",
   "execution_count": 75,
   "metadata": {},
   "outputs": [
    {
     "data": {
      "text/plain": [
       "array([[[[  -5.032528 ,   -9.069246 ,  -11.0725975, ...,  -18.062944 ,\n",
       "           -15.51245  ,  -10.010572 ],\n",
       "         [  -9.196355 ,  -17.706951 ,  -21.741497 , ...,  -34.291756 ,\n",
       "           -29.002335 ,  -18.156494 ],\n",
       "         [ -11.168331 ,  -21.410812 ,  -26.218115 , ...,  -41.23322  ,\n",
       "           -34.919113 ,  -21.457184 ],\n",
       "         ...,\n",
       "         [ -13.30439  ,  -26.23891  ,  -32.104836 , ...,  -10.452716 ,\n",
       "            -8.894147 ,   -5.339455 ],\n",
       "         [ -11.202439 ,  -21.98139  ,  -26.849098 , ...,   -8.646945 ,\n",
       "            -7.3632936,   -4.436797 ],\n",
       "         [  -5.8298855,  -11.590156 ,  -14.128543 , ...,   -4.583211 ,\n",
       "            -3.9242194,   -2.1376426]],\n",
       "\n",
       "        [[ -16.526638 ,  -29.02168  ,  -34.391876 , ...,  -50.839127 ,\n",
       "           -42.54017  ,  -23.828386 ],\n",
       "         [ -27.704456 ,  -47.88201  ,  -57.233364 , ...,  -86.15812  ,\n",
       "           -72.2221   ,  -41.6403   ],\n",
       "         [ -33.301857 ,  -57.20471  ,  -68.31884  , ..., -102.759926 ,\n",
       "           -86.12076  ,  -49.69862  ],\n",
       "         ...,\n",
       "         [ -43.698513 ,  -73.37109  ,  -86.88181  , ...,  -28.807728 ,\n",
       "           -24.272522 ,  -13.909049 ],\n",
       "         [ -36.859974 ,  -61.426952 ,  -72.7419   , ...,  -24.265163 ,\n",
       "           -20.434734 ,  -11.702845 ],\n",
       "         [ -23.374245 ,  -37.722946 ,  -44.48765  , ...,  -14.840421 ,\n",
       "           -12.503351 ,   -7.208625 ]],\n",
       "\n",
       "        [[  -8.427688 ,  -13.382595 ,  -15.530592 , ...,  -22.180815 ,\n",
       "           -18.541193 ,   -8.718459 ],\n",
       "         [ -13.639936 ,  -21.94611  ,  -26.162043 , ...,  -40.23568  ,\n",
       "           -34.12013  ,  -19.312534 ],\n",
       "         [ -16.052319 ,  -26.341467 ,  -31.522205 , ...,  -48.66699  ,\n",
       "           -41.2925   ,  -23.972546 ],\n",
       "         ...,\n",
       "         [ -20.095505 ,  -34.517498 ,  -41.39505  , ...,  -14.442557 ,\n",
       "           -12.287783 ,   -7.605881 ],\n",
       "         [ -16.866583 ,  -29.169823 ,  -35.047123 , ...,  -12.303736 ,\n",
       "           -10.4620905,   -6.519512 ],\n",
       "         [  -9.457989 ,  -19.08738  ,  -23.59863  , ...,   -8.754644 ,\n",
       "            -7.499373 ,   -5.2091146]],\n",
       "\n",
       "        [[  -8.424037 ,  -14.85046  ,  -17.530037 , ...,  -23.287704 ,\n",
       "           -18.536922 ,  -10.018828 ],\n",
       "         [ -13.069758 ,  -21.494944 ,  -25.327776 , ...,  -33.62057  ,\n",
       "           -26.64522  ,  -14.676066 ],\n",
       "         [ -15.436426 ,  -25.197649 ,  -29.713781 , ...,  -39.44647  ,\n",
       "           -31.295303 ,  -17.41026  ],\n",
       "         ...,\n",
       "         [ -18.751808 ,  -29.150108 ,  -33.661068 , ...,   -9.167378 ,\n",
       "            -7.347145 ,   -3.987115 ],\n",
       "         [ -15.397215 ,  -23.744532 ,  -27.363699 , ...,   -7.484131 ,\n",
       "            -5.9734077,   -3.1848204],\n",
       "         [  -9.117166 ,  -14.3530855,  -16.421503 , ...,   -4.516583 ,\n",
       "            -3.5479958,   -1.8589749]],\n",
       "\n",
       "        [[ -12.774412 ,  -18.878853 ,  -23.309723 , ...,  -35.5518   ,\n",
       "           -29.019651 ,  -16.084229 ],\n",
       "         [ -19.745735 ,  -32.51     ,  -40.29274  , ...,  -63.29619  ,\n",
       "           -52.358074 ,  -29.865887 ],\n",
       "         [ -23.670822 ,  -39.309055 ,  -48.67425  , ...,  -76.30791  ,\n",
       "           -63.099255 ,  -35.82787  ],\n",
       "         ...,\n",
       "         [ -29.207148 ,  -50.457954 ,  -61.798473 , ...,  -20.080713 ,\n",
       "           -16.677628 ,   -9.759643 ],\n",
       "         [ -24.157597 ,  -42.168125 ,  -51.64785  , ...,  -16.7428   ,\n",
       "           -13.91467  ,   -8.153199 ],\n",
       "         [ -13.155373 ,  -24.849234 ,  -30.433338 , ...,  -10.011297 ,\n",
       "            -8.378879 ,   -4.887469 ]],\n",
       "\n",
       "        [[  -4.553391 ,   -9.292542 ,  -11.241523 , ...,  -18.194324 ,\n",
       "           -16.04437  ,  -10.94296  ],\n",
       "         [  -8.987927 ,  -17.538027 ,  -21.013672 , ...,  -33.043777 ,\n",
       "           -28.839321 ,  -20.031803 ],\n",
       "         [ -11.35838  ,  -21.573837 ,  -25.826199 , ...,  -40.11993  ,\n",
       "           -34.792007 ,  -24.08781  ],\n",
       "         ...,\n",
       "         [ -17.140783 ,  -30.763943 ,  -36.407623 , ...,  -13.086348 ,\n",
       "           -11.244037 ,   -7.483092 ],\n",
       "         [ -15.105651 ,  -26.73795  ,  -31.637424 , ...,  -11.387089 ,\n",
       "            -9.755527 ,   -6.3816104],\n",
       "         [ -11.604117 ,  -20.125267 ,  -23.943014 , ...,   -8.573126 ,\n",
       "            -7.237529 ,   -4.4808764]]]], dtype=float32)"
      ]
     },
     "execution_count": 75,
     "metadata": {},
     "output_type": "execute_result"
    }
   ],
   "source": [
    "# len(labels_mask[0])\n",
    "# len(pred)\n",
    "# len(labels_mask)\n",
    "# len(pred[0])\n",
    "# [pred]\n",
    "pred_centers\n",
    "# pred_masks.shape\n",
    "# pred = model(inputs)"
   ]
  },
  {
   "cell_type": "raw",
   "metadata": {},
   "source": [
    "pred = model(inputs)\n",
    "pred = pred[0]\n"
   ]
  },
  {
   "cell_type": "code",
   "execution_count": 64,
   "metadata": {},
   "outputs": [
    {
     "data": {
      "text/plain": [
       "[(0, 'shared_feature_maps'), (1, 'class_masks'), (2, 'center_masks')]"
      ]
     },
     "execution_count": 64,
     "metadata": {},
     "output_type": "execute_result"
    }
   ],
   "source": [
    "# len(pred)\n",
    "list(enumerate(pred))"
   ]
  },
  {
   "cell_type": "code",
   "execution_count": 57,
   "metadata": {},
   "outputs": [
    {
     "data": {
      "text/plain": [
       "array([[[[ -22.037907 ,  -35.910973 ,  -43.16165  , ...,  -68.02143  ,\n",
       "           -58.01715  ,  -35.53316  ],\n",
       "         [ -34.984917 ,  -58.108006 ,  -69.87346  , ..., -109.87455  ,\n",
       "           -93.75773  ,  -57.98214  ],\n",
       "         [ -41.141956 ,  -68.22731  ,  -81.86617  , ..., -128.51053  ,\n",
       "          -109.66394  ,  -67.77998  ],\n",
       "         ...,\n",
       "         [ -52.740704 ,  -86.93795  , -103.59356  , ...,  -38.46233  ,\n",
       "           -32.87971  ,  -20.186821 ],\n",
       "         [ -44.24007  ,  -72.836555 ,  -86.74671  , ...,  -32.284966 ,\n",
       "           -27.568083 ,  -16.898193 ],\n",
       "         [ -26.68028  ,  -43.386044 ,  -51.57912  , ...,  -19.314909 ,\n",
       "           -16.471737 ,   -9.847503 ]],\n",
       "\n",
       "        [[ -33.25004  ,  -55.79255  ,  -67.13716  , ..., -100.24596  ,\n",
       "           -83.697105 ,  -49.547302 ],\n",
       "         [ -55.45316  ,  -93.890724 , -113.14113  , ..., -170.33737  ,\n",
       "          -142.55968  ,  -85.64638  ],\n",
       "         [ -65.919815 , -111.512405 , -134.28783  , ..., -202.3194   ,\n",
       "          -169.40408  , -101.7645   ],\n",
       "         ...,\n",
       "         [ -79.841225 , -135.63013  , -162.80756  , ...,  -53.492188 ,\n",
       "           -44.87403  ,  -27.588152 ],\n",
       "         [ -66.13777  , -112.53302  , -135.09998  , ...,  -44.604736 ,\n",
       "           -37.418373 ,  -23.113985 ],\n",
       "         [ -39.090534 ,  -66.75855  ,  -80.0493   , ...,  -26.285856 ,\n",
       "           -22.053955 ,  -13.646437 ]],\n",
       "\n",
       "        [[ -14.499389 ,  -25.215899 ,  -30.512041 , ...,  -47.228012 ,\n",
       "           -40.090122 ,  -26.753769 ],\n",
       "         [ -25.22636  ,  -41.534485 ,  -49.55547  , ...,  -74.62833  ,\n",
       "           -63.003452 ,  -40.037144 ],\n",
       "         [ -30.210497 ,  -49.612534 ,  -59.17138  , ...,  -88.69058  ,\n",
       "           -74.805016 ,  -47.232246 ],\n",
       "         ...,\n",
       "         [ -38.21765  ,  -61.59045  ,  -73.259926 , ...,  -23.8814   ,\n",
       "           -20.13219  ,  -12.616044 ],\n",
       "         [ -32.038445 ,  -51.251656 ,  -60.84961  , ...,  -19.866364 ,\n",
       "           -16.731466 ,  -10.375556 ],\n",
       "         [ -19.472733 ,  -31.240303 ,  -36.92346  , ...,  -11.90361  ,\n",
       "           -10.064719 ,   -6.109301 ]],\n",
       "\n",
       "        [[ -15.665548 ,  -27.870872 ,  -33.520435 , ...,  -48.393005 ,\n",
       "           -40.10993  ,  -25.28788  ],\n",
       "         [ -27.240742 ,  -45.0286   ,  -53.881462 , ...,  -76.6664   ,\n",
       "           -63.016953 ,  -38.66601  ],\n",
       "         [ -32.271355 ,  -53.005527 ,  -63.33475  , ...,  -90.28452  ,\n",
       "           -74.29889  ,  -45.656487 ],\n",
       "         ...,\n",
       "         [ -39.014576 ,  -62.98167  ,  -74.49937  , ...,  -23.584023 ,\n",
       "           -19.521105 ,  -12.085031 ],\n",
       "         [ -32.837795 ,  -52.517784 ,  -61.97003  , ...,  -19.694748 ,\n",
       "           -16.270842 ,  -10.019221 ],\n",
       "         [ -20.461798 ,  -31.19422  ,  -36.638275 , ...,  -11.448883 ,\n",
       "            -9.371714 ,   -5.4674907]],\n",
       "\n",
       "        [[ -20.512508 ,  -35.52212  ,  -43.508747 , ...,  -68.79646  ,\n",
       "           -58.63418  ,  -38.50344  ],\n",
       "         [ -32.882004 ,  -56.03282  ,  -67.92689  , ..., -106.74275  ,\n",
       "           -91.17013  ,  -58.737488 ],\n",
       "         [ -38.728214 ,  -65.698616 ,  -79.48488  , ..., -124.614815 ,\n",
       "          -106.426765 ,  -68.630165 ],\n",
       "         ...,\n",
       "         [ -52.011547 ,  -87.09917  , -103.651054 , ...,  -36.78627  ,\n",
       "           -31.226831 ,  -19.535872 ],\n",
       "         [ -43.520977 ,  -72.74756  ,  -86.46915  , ...,  -30.614286 ,\n",
       "           -25.957521 ,  -16.052458 ],\n",
       "         [ -25.973724 ,  -42.325523 ,  -49.98667  , ...,  -17.448755 ,\n",
       "           -14.787433 ,   -9.03877  ]],\n",
       "\n",
       "        [[ -10.780291 ,  -17.752975 ,  -19.82699  , ...,  -26.439093 ,\n",
       "           -22.83733  ,  -14.664564 ],\n",
       "         [ -18.100117 ,  -27.324663 ,  -30.334269 , ...,  -38.80943  ,\n",
       "           -33.236435 ,  -21.679531 ],\n",
       "         [ -20.891449 ,  -31.165436 ,  -34.380867 , ...,  -43.836086 ,\n",
       "           -37.843662 ,  -25.039368 ],\n",
       "         ...,\n",
       "         [ -28.277225 ,  -41.034912 ,  -44.97535  , ...,  -16.417355 ,\n",
       "           -14.242674 ,   -9.169152 ],\n",
       "         [ -24.331408 ,  -34.919    ,  -38.29921  , ...,  -14.258261 ,\n",
       "           -12.322933 ,   -7.9294558],\n",
       "         [ -16.042206 ,  -22.7587   ,  -24.863247 , ...,   -9.128026 ,\n",
       "            -7.7822886,   -4.721519 ]]]], dtype=float32)"
      ]
     },
     "execution_count": 57,
     "metadata": {},
     "output_type": "execute_result"
    }
   ],
   "source": [
    "pred['class_masks'].data.cpu().numpy()"
   ]
  },
  {
   "cell_type": "code",
   "execution_count": null,
   "metadata": {},
   "outputs": [],
   "source": [
    ""
   ]
  }
 ],
 "metadata": {
  "kernelspec": {
   "display_name": "Python 3",
   "language": "python",
   "name": "python3"
  },
  "language_info": {
   "codemirror_mode": {
    "name": "ipython",
    "version": 3.0
   },
   "file_extension": ".py",
   "mimetype": "text/x-python",
   "name": "python",
   "nbconvert_exporter": "python",
   "pygments_lexer": "ipython3",
   "version": "3.6.8"
  }
 },
 "nbformat": 4,
 "nbformat_minor": 0
}